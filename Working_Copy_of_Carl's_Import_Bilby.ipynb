{
  "nbformat": 4,
  "nbformat_minor": 0,
  "metadata": {
    "colab": {
      "provenance": [],
      "authorship_tag": "ABX9TyNySYkXGxTP8ER8+Ao2I5OQ",
      "include_colab_link": true
    },
    "kernelspec": {
      "name": "python3",
      "display_name": "Python 3"
    },
    "language_info": {
      "name": "python"
    }
  },
  "cells": [
    {
      "cell_type": "markdown",
      "metadata": {
        "id": "view-in-github",
        "colab_type": "text"
      },
      "source": [
        "<a href=\"https://colab.research.google.com/github/daniellmarc/reweighted-dns/blob/main/Working_Copy_of_Carl's_Import_Bilby.ipynb\" target=\"_parent\"><img src=\"https://colab.research.google.com/assets/colab-badge.svg\" alt=\"Open In Colab\"/></a>"
      ]
    },
    {
      "cell_type": "markdown",
      "source": [
        "Notes so far: \n",
        "\n",
        "Brought in the files simular to phils soda pop. \n",
        "\n",
        "After reviewing the notes made my phil (Thank you, again), and talked to Dr. Read. Going to change priors with functions and changing those inputs in those functions to have lambda1 < lambda2."
      ],
      "metadata": {
        "id": "HKv5uJ7dJAVZ"
      }
    },
    {
      "cell_type": "markdown",
      "source": [
        "# Pip Install and imports"
      ],
      "metadata": {
        "id": "6Cu70KUY6cBJ"
      }
    },
    {
      "cell_type": "code",
      "source": [
        "! python3 -m pip install lalsuite\n",
        "! python3 -m pip install nestle"
      ],
      "metadata": {
        "id": "a4INemqn4C1V",
        "colab": {
          "base_uri": "https://localhost:8080/"
        },
        "outputId": "97469bbe-9e11-4833-bd7a-0c7184c96784"
      },
      "execution_count": null,
      "outputs": [
        {
          "output_type": "stream",
          "name": "stdout",
          "text": [
            "Looking in indexes: https://pypi.org/simple, https://us-python.pkg.dev/colab-wheels/public/simple/\n",
            "Collecting lalsuite\n",
            "  Downloading lalsuite-7.5-cp37-cp37m-manylinux_2_17_x86_64.manylinux2014_x86_64.whl (48.3 MB)\n",
            "\u001b[K     |████████████████████████████████| 48.3 MB 116 kB/s \n",
            "\u001b[?25hRequirement already satisfied: scipy in /usr/local/lib/python3.7/dist-packages (from lalsuite) (1.7.3)\n",
            "Requirement already satisfied: python-dateutil in /usr/local/lib/python3.7/dist-packages (from lalsuite) (2.8.2)\n",
            "Requirement already satisfied: matplotlib in /usr/local/lib/python3.7/dist-packages (from lalsuite) (3.2.2)\n",
            "Requirement already satisfied: numpy>=1.7 in /usr/local/lib/python3.7/dist-packages (from lalsuite) (1.21.6)\n",
            "Collecting lscsoft-glue\n",
            "  Downloading lscsoft-glue-3.0.1.tar.gz (1.4 MB)\n",
            "\u001b[K     |████████████████████████████████| 1.4 MB 41.8 MB/s \n",
            "\u001b[?25h  Installing build dependencies ... \u001b[?25l\u001b[?25hdone\n",
            "  Getting requirements to build wheel ... \u001b[?25l\u001b[?25hdone\n",
            "    Preparing wheel metadata ... \u001b[?25l\u001b[?25hdone\n",
            "Collecting ligo-segments\n",
            "  Downloading ligo-segments-1.4.0.tar.gz (51 kB)\n",
            "\u001b[K     |████████████████████████████████| 51 kB 6.5 MB/s \n",
            "\u001b[?25hRequirement already satisfied: six in /usr/local/lib/python3.7/dist-packages (from ligo-segments->lalsuite) (1.15.0)\n",
            "Collecting pyRXP\n",
            "  Downloading pyRXP-3.0.1-cp37-cp37m-manylinux_2_12_x86_64.manylinux2010_x86_64.whl (295 kB)\n",
            "\u001b[K     |████████████████████████████████| 295 kB 46.1 MB/s \n",
            "\u001b[?25hCollecting pyOpenSSL\n",
            "  Downloading pyOpenSSL-22.0.0-py2.py3-none-any.whl (55 kB)\n",
            "\u001b[K     |████████████████████████████████| 55 kB 4.3 MB/s \n",
            "\u001b[?25hRequirement already satisfied: cycler>=0.10 in /usr/local/lib/python3.7/dist-packages (from matplotlib->lalsuite) (0.11.0)\n",
            "Requirement already satisfied: pyparsing!=2.0.4,!=2.1.2,!=2.1.6,>=2.0.1 in /usr/local/lib/python3.7/dist-packages (from matplotlib->lalsuite) (3.0.9)\n",
            "Requirement already satisfied: kiwisolver>=1.0.1 in /usr/local/lib/python3.7/dist-packages (from matplotlib->lalsuite) (1.4.4)\n",
            "Requirement already satisfied: typing-extensions in /usr/local/lib/python3.7/dist-packages (from kiwisolver>=1.0.1->matplotlib->lalsuite) (4.1.1)\n",
            "Collecting cryptography>=35.0\n",
            "  Downloading cryptography-38.0.1-cp36-abi3-manylinux_2_24_x86_64.whl (4.0 MB)\n",
            "\u001b[K     |████████████████████████████████| 4.0 MB 36.2 MB/s \n",
            "\u001b[?25hRequirement already satisfied: cffi>=1.12 in /usr/local/lib/python3.7/dist-packages (from cryptography>=35.0->pyOpenSSL->lscsoft-glue->lalsuite) (1.15.1)\n",
            "Requirement already satisfied: pycparser in /usr/local/lib/python3.7/dist-packages (from cffi>=1.12->cryptography>=35.0->pyOpenSSL->lscsoft-glue->lalsuite) (2.21)\n",
            "Building wheels for collected packages: ligo-segments, lscsoft-glue\n",
            "  Building wheel for ligo-segments (setup.py) ... \u001b[?25l\u001b[?25hdone\n",
            "  Created wheel for ligo-segments: filename=ligo_segments-1.4.0-cp37-cp37m-linux_x86_64.whl size=86661 sha256=ab2d4a55204410c2d9f73fefb7e6d578fdd36b2293f4fd05563da888a773fc59\n",
            "  Stored in directory: /root/.cache/pip/wheels/09/f9/d4/129b3bb4458d50b56fdc8245ace7c8216d54865fe8d3aebc05\n",
            "  Building wheel for lscsoft-glue (PEP 517) ... \u001b[?25l\u001b[?25hdone\n",
            "  Created wheel for lscsoft-glue: filename=lscsoft_glue-3.0.1-cp37-cp37m-linux_x86_64.whl size=258454 sha256=d35ac764d22a84b0580ef581da096e7c99c426d49ce2c5f24351d22282466eda\n",
            "  Stored in directory: /root/.cache/pip/wheels/62/ad/9a/6e89ceed9887a50c3c227beea125ad58f50b3622fbaf0873bf\n",
            "Successfully built ligo-segments lscsoft-glue\n",
            "Installing collected packages: cryptography, pyRXP, pyOpenSSL, ligo-segments, lscsoft-glue, lalsuite\n",
            "Successfully installed cryptography-38.0.1 lalsuite-7.5 ligo-segments-1.4.0 lscsoft-glue-3.0.1 pyOpenSSL-22.0.0 pyRXP-3.0.1\n",
            "Looking in indexes: https://pypi.org/simple, https://us-python.pkg.dev/colab-wheels/public/simple/\n",
            "Collecting nestle\n",
            "  Downloading nestle-0.2.0.tar.gz (12 kB)\n",
            "Building wheels for collected packages: nestle\n",
            "  Building wheel for nestle (setup.py) ... \u001b[?25l\u001b[?25hdone\n",
            "  Created wheel for nestle: filename=nestle-0.2.0-py3-none-any.whl size=12457 sha256=813fd5335dbf32eb571e839150852709c29c8c629f2889d60700af808daee11b\n",
            "  Stored in directory: /root/.cache/pip/wheels/12/96/d9/fb8f0e7ed8164becad7d76d8a94909497a984d2bebe9efec74\n",
            "Successfully built nestle\n",
            "Installing collected packages: nestle\n",
            "Successfully installed nestle-0.2.0\n"
          ]
        }
      ]
    },
    {
      "cell_type": "code",
      "source": [
        "! git clone -b BinaryLove https://git.ligo.org/cjhaster/bilby.git"
      ],
      "metadata": {
        "id": "r9ctWjJdjLcO",
        "colab": {
          "base_uri": "https://localhost:8080/"
        },
        "outputId": "60b4d700-4567-4d32-8197-dac1dbea60cb"
      },
      "execution_count": null,
      "outputs": [
        {
          "output_type": "stream",
          "name": "stdout",
          "text": [
            "Cloning into 'bilby'...\n",
            "remote: Enumerating objects: 24438, done.\u001b[K\n",
            "remote: Total 24438 (delta 0), reused 0 (delta 0), pack-reused 24438\u001b[K\n",
            "Receiving objects: 100% (24438/24438), 18.79 MiB | 9.75 MiB/s, done.\n",
            "Resolving deltas: 100% (16735/16735), done.\n",
            "Checking out files: 100% (413/413), done.\n"
          ]
        }
      ]
    },
    {
      "cell_type": "code",
      "source": [
        "# ! git clone -b master https://git.ligo.org/cjhaster/bilby.git"
      ],
      "metadata": {
        "id": "KGTnJcHSCTWz"
      },
      "execution_count": null,
      "outputs": []
    },
    {
      "cell_type": "code",
      "source": [
        "import sys\n",
        "import lal\n",
        "sys.path.insert(0,'/content/bilby') \n",
        "import bilby"
      ],
      "metadata": {
        "id": "8jZLuzuyCCC7",
        "colab": {
          "base_uri": "https://localhost:8080/"
        },
        "outputId": "f7c795f6-d60f-46fc-a3b0-d8f777dbabe4"
      },
      "execution_count": null,
      "outputs": [
        {
          "output_type": "stream",
          "name": "stdout",
          "text": [
            "No version information file '.version' found\n"
          ]
        }
      ]
    },
    {
      "cell_type": "code",
      "source": [
        "# ## Located in master branch \n",
        "# bilby.gw.conversion.lambda_1_lambda_2_to_lambda_symmetric(injection_parameters['lambda_1'],injection_parameters['lambda_2'])\n",
        "\n",
        "# ## Located in a branch called Binary Love \n",
        "\n",
        "# # lambda_symmetric \n",
        "# bilby.gw.conversion.binary_love_lambda_symmetric_to_lambda_1_lambda_2_manual_marginalisation(0.5, ) # Parameters to take in binary_love_uniform, lambda_symmetric, mass_ratio                                                                             #  \n",
        "\n",
        "# # binary_uniform "
      ],
      "metadata": {
        "id": "612IWwgX0GSw"
      },
      "execution_count": null,
      "outputs": []
    },
    {
      "cell_type": "code",
      "source": [
        "import os\n",
        "import sys\n",
        "import multiprocessing\n",
        "import pickle\n",
        "\n",
        "\n",
        "import numpy as np\n",
        "from pandas import DataFrame, Series"
      ],
      "metadata": {
        "id": "hbEAlzN76baa"
      },
      "execution_count": null,
      "outputs": []
    },
    {
      "cell_type": "code",
      "execution_count": null,
      "metadata": {
        "id": "C3xlctrW35iR"
      },
      "outputs": [],
      "source": [
        "#!/usr/bin/env python\n",
        "\"\"\"\n",
        "Tutorial to demonstrate running parameter estimation on a binary neutron star\n",
        "system taking into account tidal deformabilities.\n",
        "\n",
        "This example estimates the masses using a uniform prior in both component masses\n",
        "and also estimates the tidal deformabilities using a uniform prior in both\n",
        "tidal deformabilities\n",
        "\"\"\"\n",
        "\n",
        "import numpy as np"
      ]
    },
    {
      "cell_type": "code",
      "source": [
        "# redshift_to_luminosity_distance"
      ],
      "metadata": {
        "id": "1arC1WmtB8sw"
      },
      "execution_count": null,
      "outputs": []
    },
    {
      "cell_type": "markdown",
      "source": [
        "# Bibly Code that contains changes"
      ],
      "metadata": {
        "id": "oqITD3de6mI4"
      }
    },
    {
      "cell_type": "code",
      "source": [
        "# Specify the output directory and the name of the simulation.\n",
        "outdir = \"outdir\"\n",
        "label = \"bns_example\"\n",
        "bilby.core.utils.setup_logger(outdir=outdir, label=label)"
      ],
      "metadata": {
        "id": "6eYHkk444Ihu"
      },
      "execution_count": null,
      "outputs": []
    },
    {
      "cell_type": "code",
      "source": [
        "# Set up a random seed for result reproducibility.  This is optional!\n",
        "np.random.seed(88170235)"
      ],
      "metadata": {
        "id": "N_CDfOmy4Kzb"
      },
      "execution_count": null,
      "outputs": []
    },
    {
      "cell_type": "code",
      "source": [
        "# We are going to inject a binary neutron star waveform.  We first establish a\n",
        "# dictionary of parameters that includes all of the different waveform\n",
        "# parameters, including masses of the two black holes (mass_1, mass_2),\n",
        "# aligned spins of both black holes (chi_1, chi_2), etc.\n",
        "injection_parameters = dict(\n",
        "    mass_1=1.5,\n",
        "    mass_2=1.3,\n",
        "    chi_1=0.02,\n",
        "    chi_2=0.02,\n",
        "    luminosity_distance=50.0,\n",
        "    theta_jn=0.4,\n",
        "    psi=2.659,\n",
        "    phase=1.3,\n",
        "    geocent_time=1126259642.413,\n",
        "    ra=1.375,\n",
        "    dec=-1.2108,\n",
        "    lambda_1=400,\n",
        "    lambda_2=450,\n",
        ")"
      ],
      "metadata": {
        "id": "4n4LhjTT4M5T"
      },
      "execution_count": null,
      "outputs": []
    },
    {
      "cell_type": "code",
      "source": [
        "lambda_tilde_Symm = bilby.gw.conversion.lambda_1_lambda_2_to_lambda_symmetric(injection_parameters['lambda_1'],injection_parameters['lambda_2'])\n",
        "\n",
        "#Mass ratio is used to find if mass1 and mass2 are equal masses. \n",
        "def eta_from_mass1_mass2(mass1, mass2): #Mass Ratio \n",
        "    \"\"\"Returns the symmetric mass ratio from mass1 and mass2.\"\"\"\n",
        "    return mass1*mass2 / (mass1+mass2)**2.\n",
        "\n",
        "mass_ratio = eta_from_mass1_mass2(injection_parameters['mass_1'],injection_parameters['mass_2'])"
      ],
      "metadata": {
        "id": "lXDupQyODnx6"
      },
      "execution_count": null,
      "outputs": []
    },
    {
      "cell_type": "code",
      "source": [
        "## Located in a branch called Binary Love \n",
        "# lambda_symmetric \n",
        "# bilby.gw.conversion.binary_love_lambda_symmetric_to_lambda_1_lambda_2_manual_marginalisation(0.5,lambda_tilde_Symm, mass_ratio ) # Parameters to take in binary_love_uniform, lambda_symmetric, mass_ratio\n",
        "       "
      ],
      "metadata": {
        "colab": {
          "base_uri": "https://localhost:8080/"
        },
        "id": "TrjG6QgdEa5g",
        "outputId": "30fa1fcb-a44f-4aca-b11d-8453b8bacc3b"
      },
      "execution_count": null,
      "outputs": [
        {
          "output_type": "execute_result",
          "data": {
            "text/plain": [
              "(37.9813952722983, 812.0186047277017)"
            ]
          },
          "metadata": {},
          "execution_count": 10
        }
      ]
    },
    {
      "cell_type": "code",
      "source": [
        "# Set the duration and sampling frequency of the data segment that we're going\n",
        "# to inject the signal into. For the\n",
        "# TaylorF2 waveform, we cut the signal close to the isco frequency\n",
        "duration = 32\n",
        "sampling_frequency = 2048\n",
        "start_time = injection_parameters[\"geocent_time\"] + 2 - duration\n"
      ],
      "metadata": {
        "id": "Im7x7-Ux4O7B"
      },
      "execution_count": null,
      "outputs": []
    },
    {
      "cell_type": "code",
      "source": [
        "# Fixed arguments passed into the source model. The analysis starts at 40 Hz.\n",
        "waveform_arguments = dict(\n",
        "    waveform_approximant=\"IMRPhenomPv2_NRTidal\",\n",
        "    reference_frequency=50.0,\n",
        "    minimum_frequency=40.0,\n",
        ")"
      ],
      "metadata": {
        "id": "LhhxdpDm4REd"
      },
      "execution_count": null,
      "outputs": []
    },
    {
      "cell_type": "code",
      "source": [
        "# Create the waveform_generator using a LAL Binary Neutron Star source function\n",
        "waveform_generator = bilby.gw.WaveformGenerator(\n",
        "    duration=duration,\n",
        "    sampling_frequency=sampling_frequency,\n",
        "    frequency_domain_source_model=bilby.gw.source.lal_binary_neutron_star,\n",
        "    parameter_conversion=bilby.gw.conversion.convert_to_lal_binary_neutron_star_parameters,\n",
        "    waveform_arguments=waveform_arguments,\n",
        ")\n"
      ],
      "metadata": {
        "colab": {
          "base_uri": "https://localhost:8080/"
        },
        "id": "YWZe_yky4Sk_",
        "outputId": "41d4214a-b7df-40d2-a64a-6961f6b691da"
      },
      "execution_count": null,
      "outputs": [
        {
          "output_type": "stream",
          "name": "stderr",
          "text": [
            "06:06 bilby INFO    : Waveform generator initiated with\n",
            "  frequency_domain_source_model: bilby.gw.source.lal_binary_neutron_star\n",
            "  time_domain_source_model: None\n",
            "  parameter_conversion: bilby.gw.conversion.convert_to_lal_binary_neutron_star_parameters\n"
          ]
        }
      ]
    },
    {
      "cell_type": "code",
      "source": [
        "# Set up interferometers.  In this case we'll use three interferometers\n",
        "# (LIGO-Hanford (H1), LIGO-Livingston (L1), and Virgo (V1)).\n",
        "# These default to their design sensitivity and start at 40 Hz.\n",
        "interferometers = bilby.gw.detector.InterferometerList([\"H1\", \"L1\", \"V1\"])\n",
        "for interferometer in interferometers:\n",
        "    interferometer.minimum_frequency = 40\n",
        "interferometers.set_strain_data_from_power_spectral_densities(\n",
        "    sampling_frequency=sampling_frequency, duration=duration, start_time=start_time\n",
        ")\n",
        "interferometers.inject_signal(\n",
        "    parameters=injection_parameters, waveform_generator=waveform_generator\n",
        ")\n"
      ],
      "metadata": {
        "colab": {
          "base_uri": "https://localhost:8080/"
        },
        "id": "7rIk6-BM4UTy",
        "outputId": "8f2735f5-f9cc-4a9b-995b-264b9e34a0e8"
      },
      "execution_count": null,
      "outputs": [
        {
          "output_type": "stream",
          "name": "stderr",
          "text": [
            "00:31 bilby INFO    : Injected signal in H1:\n",
            "00:31 bilby INFO    :   optimal SNR = 34.44\n",
            "00:31 bilby INFO    :   matched filter SNR = 35.22-0.58j\n",
            "00:31 bilby INFO    :   mass_1 = 1.5\n",
            "00:31 bilby INFO    :   mass_2 = 1.3\n",
            "00:31 bilby INFO    :   chi_1 = 0.02\n",
            "00:31 bilby INFO    :   chi_2 = 0.02\n",
            "00:31 bilby INFO    :   luminosity_distance = 50.0\n",
            "00:31 bilby INFO    :   theta_jn = 0.4\n",
            "00:31 bilby INFO    :   psi = 2.659\n",
            "00:31 bilby INFO    :   phase = 1.3\n",
            "00:31 bilby INFO    :   geocent_time = 1126259642.413\n",
            "00:31 bilby INFO    :   ra = 1.375\n",
            "00:31 bilby INFO    :   dec = -1.2108\n",
            "00:31 bilby INFO    :   lambda_1 = 400\n",
            "00:31 bilby INFO    :   lambda_2 = 450\n",
            "00:31 bilby INFO    : Injected signal in L1:\n",
            "00:31 bilby INFO    :   optimal SNR = 27.88\n",
            "00:31 bilby INFO    :   matched filter SNR = 28.28+0.76j\n",
            "00:31 bilby INFO    :   mass_1 = 1.5\n",
            "00:31 bilby INFO    :   mass_2 = 1.3\n",
            "00:31 bilby INFO    :   chi_1 = 0.02\n",
            "00:31 bilby INFO    :   chi_2 = 0.02\n",
            "00:31 bilby INFO    :   luminosity_distance = 50.0\n",
            "00:31 bilby INFO    :   theta_jn = 0.4\n",
            "00:31 bilby INFO    :   psi = 2.659\n",
            "00:31 bilby INFO    :   phase = 1.3\n",
            "00:31 bilby INFO    :   geocent_time = 1126259642.413\n",
            "00:31 bilby INFO    :   ra = 1.375\n",
            "00:31 bilby INFO    :   dec = -1.2108\n",
            "00:31 bilby INFO    :   lambda_1 = 400\n",
            "00:31 bilby INFO    :   lambda_2 = 450\n",
            "00:31 bilby INFO    : Injected signal in V1:\n",
            "00:31 bilby INFO    :   optimal SNR = 29.56\n",
            "00:31 bilby INFO    :   matched filter SNR = 29.94+0.51j\n",
            "00:31 bilby INFO    :   mass_1 = 1.5\n",
            "00:31 bilby INFO    :   mass_2 = 1.3\n",
            "00:31 bilby INFO    :   chi_1 = 0.02\n",
            "00:31 bilby INFO    :   chi_2 = 0.02\n",
            "00:31 bilby INFO    :   luminosity_distance = 50.0\n",
            "00:31 bilby INFO    :   theta_jn = 0.4\n",
            "00:31 bilby INFO    :   psi = 2.659\n",
            "00:31 bilby INFO    :   phase = 1.3\n",
            "00:31 bilby INFO    :   geocent_time = 1126259642.413\n",
            "00:31 bilby INFO    :   ra = 1.375\n",
            "00:31 bilby INFO    :   dec = -1.2108\n",
            "00:31 bilby INFO    :   lambda_1 = 400\n",
            "00:31 bilby INFO    :   lambda_2 = 450\n"
          ]
        },
        {
          "output_type": "execute_result",
          "data": {
            "text/plain": [
              "[{'plus': array([ 0.00000000e+00-0.00000000e+00j,  0.00000000e+00-0.00000000e+00j,\n",
              "          0.00000000e+00-0.00000000e+00j, ...,\n",
              "         -4.02066493e-25+1.53786385e-25j, -4.02109206e-25+1.53625167e-25j,\n",
              "          0.00000000e+00-0.00000000e+00j]),\n",
              "  'cross': array([0.00000000e+00+0.00000000e+00j, 0.00000000e+00+0.00000000e+00j,\n",
              "         0.00000000e+00+0.00000000e+00j, ...,\n",
              "         1.53267924e-25+4.00711004e-25j, 1.53107249e-25+4.00753572e-25j,\n",
              "         0.00000000e+00+0.00000000e+00j])},\n",
              " {'plus': array([ 0.00000000e+00-0.00000000e+00j,  0.00000000e+00-0.00000000e+00j,\n",
              "          0.00000000e+00-0.00000000e+00j, ...,\n",
              "         -4.02066493e-25+1.53786385e-25j, -4.02109206e-25+1.53625167e-25j,\n",
              "          0.00000000e+00-0.00000000e+00j]),\n",
              "  'cross': array([0.00000000e+00+0.00000000e+00j, 0.00000000e+00+0.00000000e+00j,\n",
              "         0.00000000e+00+0.00000000e+00j, ...,\n",
              "         1.53267924e-25+4.00711004e-25j, 1.53107249e-25+4.00753572e-25j,\n",
              "         0.00000000e+00+0.00000000e+00j])},\n",
              " {'plus': array([ 0.00000000e+00-0.00000000e+00j,  0.00000000e+00-0.00000000e+00j,\n",
              "          0.00000000e+00-0.00000000e+00j, ...,\n",
              "         -4.02066493e-25+1.53786385e-25j, -4.02109206e-25+1.53625167e-25j,\n",
              "          0.00000000e+00-0.00000000e+00j]),\n",
              "  'cross': array([0.00000000e+00+0.00000000e+00j, 0.00000000e+00+0.00000000e+00j,\n",
              "         0.00000000e+00+0.00000000e+00j, ...,\n",
              "         1.53267924e-25+4.00711004e-25j, 1.53107249e-25+4.00753572e-25j,\n",
              "         0.00000000e+00+0.00000000e+00j])}]"
            ]
          },
          "metadata": {},
          "execution_count": 24
        }
      ]
    },
    {
      "cell_type": "code",
      "source": [
        "# Load the default prior for binary neutron stars.\n",
        "# We're going to sample in chirp_mass, symmetric_mass_ratio, lambda_tilde, and\n",
        "# delta_lambda rather than mass_1, mass_2, lambda_1, and lambda_2.\n",
        "# BNS have aligned spins by default, if you want to allow precessing spins\n",
        "# pass aligned_spin=False to the BNSPriorDict\n",
        "priors = bilby.gw.prior.BNSPriorDict()\n",
        "for key in [\n",
        "    \"psi\",\n",
        "    \"geocent_time\",\n",
        "    \"ra\",\n",
        "    \"dec\",\n",
        "    \"chi_1\",\n",
        "    \"chi_2\",\n",
        "    \"theta_jn\",\n",
        "    \"luminosity_distance\",\n",
        "    \"phase\",\n",
        "]:\n",
        "    priors[key] = injection_parameters[key]\n",
        "del priors[\"mass_ratio\"], priors[\"lambda_1\"], priors[\"lambda_2\"]\n",
        "priors[\"chirp_mass\"] = bilby.core.prior.Gaussian(\n",
        "    1.215, 0.1, name=\"chirp_mass\", unit=\"$M_{\\\\odot}$\"\n",
        ")\n",
        "priors[\"symmetric_mass_ratio\"] = bilby.core.prior.Uniform(\n",
        "    0.1, 0.25, name=\"symmetric_mass_ratio\"\n",
        ")\n",
        "\n",
        "\n",
        "priors[\"lambda_tilde\"] = bilby.core.prior.Uniform(0, 5000, name=\"lambda_tilde\")\n",
        "priors[\"delta_lambda\"] = bilby.core.prior.Uniform(-5000, 5000, name=\"delta_lambda\")\n"
      ],
      "metadata": {
        "id": "Ek8iStOG4WGX"
      },
      "execution_count": null,
      "outputs": []
    },
    {
      "cell_type": "markdown",
      "source": [
        "Bring in the Symmetric and Asymmetric priors:"
      ],
      "metadata": {
        "id": "eLvBDmRhH_XL"
      }
    },
    {
      "cell_type": "code",
      "source": [
        "##Changing the lambdaT_S and Asym here. See what happens \n",
        "#Simular how we brought in the priors like lambda_tilde and delta_lambda\n",
        "\n",
        "#Symmetric \n",
        "bilby.gw.conversion.binary_love_lambda_symmetric_to_lambda_1_lambda_2_manual_marginalisation(0.5,lambda_tilde_Symm, mass_ratio ) # Parameters to take in binary_love_uniform, lambda_symmetric, mass_ratio\n",
        "\n",
        "#Anti-Symmetric\n",
        "bilby.gw.conversion.binary_love_lambda_antisymmetric_to_lambda_1_lambda_2_automatic_marginalisation(0.5,lambda_tilde_Symm, mass_ratio )"
      ],
      "metadata": {
        "id": "RHbOnZSk0_F-"
      },
      "execution_count": null,
      "outputs": []
    },
    {
      "cell_type": "code",
      "source": [
        "# Initialise the likelihood by passing in the interferometer data (IFOs)\n",
        "# and the waveform generator\n",
        "likelihood = bilby.gw.GravitationalWaveTransient(\n",
        "    interferometers=interferometers,\n",
        "    waveform_generator=waveform_generator,\n",
        ")\n"
      ],
      "metadata": {
        "id": "g4o2kMWD4a5k"
      },
      "execution_count": null,
      "outputs": []
    },
    {
      "cell_type": "code",
      "source": [
        "# Run sampler.  In this case we're going to use the `nestle` sampler\n",
        "result = bilby.run_sampler(\n",
        "    likelihood=likelihood,\n",
        "    priors=priors,\n",
        "    sampler=\"nestle\",\n",
        "    npoints=100,\n",
        "    injection_parameters=injection_parameters,\n",
        "    outdir=outdir,\n",
        "    label=label,\n",
        "    conversion_function=bilby.gw.conversion.generate_all_bns_parameters,\n",
        ")\n",
        "\n",
        "result.plot_corner()\n"
      ],
      "metadata": {
        "id": "PpPtqBcO4iP6"
      },
      "execution_count": null,
      "outputs": []
    }
  ]
}