{
  "nbformat": 4,
  "nbformat_minor": 0,
  "metadata": {
    "colab": {
      "provenance": [],
      "authorship_tag": "ABX9TyNyd2El+MrgcmQaeGyIhNKb",
      "include_colab_link": true
    },
    "kernelspec": {
      "name": "python3",
      "display_name": "Python 3"
    },
    "language_info": {
      "name": "python"
    }
  },
  "cells": [
    {
      "cell_type": "markdown",
      "metadata": {
        "id": "view-in-github",
        "colab_type": "text"
      },
      "source": [
        "<a href=\"https://colab.research.google.com/github/daniellmarc/reweighted-dns/blob/main/Importing_Carl_Johan_Haster_Bilby_Example.ipynb\" target=\"_parent\"><img src=\"https://colab.research.google.com/assets/colab-badge.svg\" alt=\"Open In Colab\"/></a>"
      ]
    },
    {
      "cell_type": "code",
      "source": [
        "! git clone -b BinaryLove https://git.ligo.org/cjhaster/bilby.git"
      ],
      "metadata": {
        "colab": {
          "base_uri": "https://localhost:8080/"
        },
        "id": "GAOYL47NnCP7",
        "outputId": "952e173a-74e3-41e0-c915-ef196586d00b"
      },
      "execution_count": 4,
      "outputs": [
        {
          "output_type": "stream",
          "name": "stdout",
          "text": [
            "fatal: destination path 'bilby' already exists and is not an empty directory.\n"
          ]
        }
      ]
    },
    {
      "cell_type": "code",
      "source": [
        "import sys\n",
        "sys.path.insert(0,'/content/bilby') \n",
        "import bilby"
      ],
      "metadata": {
        "id": "cMZwLpk1nPph"
      },
      "execution_count": 5,
      "outputs": []
    },
    {
      "cell_type": "code",
      "source": [
        "! python3 -m pip install lalsuite\n",
        "! python3 -m pip install nestle"
      ],
      "metadata": {
        "colab": {
          "base_uri": "https://localhost:8080/"
        },
        "id": "edgXiUF0ZsGs",
        "outputId": "a87ee245-7768-4211-c2c9-fe1145805551"
      },
      "execution_count": 3,
      "outputs": [
        {
          "output_type": "stream",
          "name": "stdout",
          "text": [
            "Looking in indexes: https://pypi.org/simple, https://us-python.pkg.dev/colab-wheels/public/simple/\n",
            "Collecting lalsuite\n",
            "  Downloading lalsuite-7.5-cp37-cp37m-manylinux_2_17_x86_64.manylinux2014_x86_64.whl (48.3 MB)\n",
            "\u001b[K     |████████████████████████████████| 48.3 MB 73 kB/s \n",
            "\u001b[?25hRequirement already satisfied: python-dateutil in /usr/local/lib/python3.7/dist-packages (from lalsuite) (2.8.2)\n",
            "Collecting lscsoft-glue\n",
            "  Downloading lscsoft-glue-3.0.1.tar.gz (1.4 MB)\n",
            "\u001b[K     |████████████████████████████████| 1.4 MB 45.8 MB/s \n",
            "\u001b[?25h  Installing build dependencies ... \u001b[?25l\u001b[?25hdone\n",
            "  Getting requirements to build wheel ... \u001b[?25l\u001b[?25hdone\n",
            "    Preparing wheel metadata ... \u001b[?25l\u001b[?25hdone\n",
            "Requirement already satisfied: matplotlib in /usr/local/lib/python3.7/dist-packages (from lalsuite) (3.2.2)\n",
            "Collecting ligo-segments\n",
            "  Downloading ligo-segments-1.4.0.tar.gz (51 kB)\n",
            "\u001b[K     |████████████████████████████████| 51 kB 5.4 MB/s \n",
            "\u001b[?25hRequirement already satisfied: numpy>=1.7 in /usr/local/lib/python3.7/dist-packages (from lalsuite) (1.21.6)\n",
            "Requirement already satisfied: scipy in /usr/local/lib/python3.7/dist-packages (from lalsuite) (1.7.3)\n",
            "Requirement already satisfied: six in /usr/local/lib/python3.7/dist-packages (from ligo-segments->lalsuite) (1.15.0)\n",
            "Collecting pyOpenSSL\n",
            "  Downloading pyOpenSSL-22.0.0-py2.py3-none-any.whl (55 kB)\n",
            "\u001b[K     |████████████████████████████████| 55 kB 4.1 MB/s \n",
            "\u001b[?25hCollecting pyRXP\n",
            "  Downloading pyRXP-3.0.1-cp37-cp37m-manylinux_2_12_x86_64.manylinux2010_x86_64.whl (295 kB)\n",
            "\u001b[K     |████████████████████████████████| 295 kB 64.3 MB/s \n",
            "\u001b[?25hRequirement already satisfied: cycler>=0.10 in /usr/local/lib/python3.7/dist-packages (from matplotlib->lalsuite) (0.11.0)\n",
            "Requirement already satisfied: kiwisolver>=1.0.1 in /usr/local/lib/python3.7/dist-packages (from matplotlib->lalsuite) (1.4.4)\n",
            "Requirement already satisfied: pyparsing!=2.0.4,!=2.1.2,!=2.1.6,>=2.0.1 in /usr/local/lib/python3.7/dist-packages (from matplotlib->lalsuite) (3.0.9)\n",
            "Requirement already satisfied: typing-extensions in /usr/local/lib/python3.7/dist-packages (from kiwisolver>=1.0.1->matplotlib->lalsuite) (4.1.1)\n",
            "Collecting cryptography>=35.0\n",
            "  Downloading cryptography-38.0.1-cp36-abi3-manylinux_2_24_x86_64.whl (4.0 MB)\n",
            "\u001b[K     |████████████████████████████████| 4.0 MB 46.8 MB/s \n",
            "\u001b[?25hRequirement already satisfied: cffi>=1.12 in /usr/local/lib/python3.7/dist-packages (from cryptography>=35.0->pyOpenSSL->lscsoft-glue->lalsuite) (1.15.1)\n",
            "Requirement already satisfied: pycparser in /usr/local/lib/python3.7/dist-packages (from cffi>=1.12->cryptography>=35.0->pyOpenSSL->lscsoft-glue->lalsuite) (2.21)\n",
            "Building wheels for collected packages: ligo-segments, lscsoft-glue\n",
            "  Building wheel for ligo-segments (setup.py) ... \u001b[?25l\u001b[?25hdone\n",
            "  Created wheel for ligo-segments: filename=ligo_segments-1.4.0-cp37-cp37m-linux_x86_64.whl size=86656 sha256=917870dc9a284051e0a222476505fbafcd243947e5581df2779b9ea7f9c8223e\n",
            "  Stored in directory: /root/.cache/pip/wheels/09/f9/d4/129b3bb4458d50b56fdc8245ace7c8216d54865fe8d3aebc05\n",
            "  Building wheel for lscsoft-glue (PEP 517) ... \u001b[?25l\u001b[?25hdone\n",
            "  Created wheel for lscsoft-glue: filename=lscsoft_glue-3.0.1-cp37-cp37m-linux_x86_64.whl size=258461 sha256=ed10a390104053c6d049614646b5e9fc043e99b521b57697bc815692880d40fc\n",
            "  Stored in directory: /root/.cache/pip/wheels/62/ad/9a/6e89ceed9887a50c3c227beea125ad58f50b3622fbaf0873bf\n",
            "Successfully built ligo-segments lscsoft-glue\n",
            "Installing collected packages: cryptography, pyRXP, pyOpenSSL, ligo-segments, lscsoft-glue, lalsuite\n",
            "Successfully installed cryptography-38.0.1 lalsuite-7.5 ligo-segments-1.4.0 lscsoft-glue-3.0.1 pyOpenSSL-22.0.0 pyRXP-3.0.1\n",
            "Looking in indexes: https://pypi.org/simple, https://us-python.pkg.dev/colab-wheels/public/simple/\n",
            "Requirement already satisfied: nestle in /usr/local/lib/python3.7/dist-packages (0.2.0)\n"
          ]
        }
      ]
    },
    {
      "cell_type": "code",
      "execution_count": 6,
      "metadata": {
        "id": "FeSCSxSR_kud"
      },
      "outputs": [],
      "source": [
        "#!/usr/bin/env python\n",
        "\"\"\"\n",
        "Tutorial to demonstrate running parameter estimation on a binary neutron star\n",
        "system taking into account tidal deformabilities.\n",
        "\n",
        "This example estimates the masses using a uniform prior in both component masses\n",
        "and also estimates the tidal deformabilities using a uniform prior in both\n",
        "tidal deformabilities\n",
        "\"\"\"\n",
        "import numpy as np\n"
      ]
    },
    {
      "cell_type": "code",
      "source": [
        "\n",
        "# Specify the output directory and the name of the simulation.\n",
        "outdir = \"outdir\"\n",
        "label = \"bns_example\"\n",
        "bilby.core.utils.setup_logger(outdir=outdir, label=label)\n",
        "\n"
      ],
      "metadata": {
        "id": "HBPs6tPwZZpp"
      },
      "execution_count": 7,
      "outputs": []
    },
    {
      "cell_type": "code",
      "source": [
        "# Set up a random seed for result reproducibility.  This is optional!\n",
        "np.random.seed(88170235)\n"
      ],
      "metadata": {
        "id": "tM9ypaHOZb_y"
      },
      "execution_count": 8,
      "outputs": []
    },
    {
      "cell_type": "code",
      "source": [
        "# We are going to inject a binary neutron star waveform.  We first establish a\n",
        "# dictionary of parameters that includes all of the different waveform\n",
        "# parameters, including masses of the two black holes (mass_1, mass_2),\n",
        "# aligned spins of both black holes (chi_1, chi_2), etc.\n",
        "injection_parameters = dict(\n",
        "    mass_1=1.5,\n",
        "    mass_2=1.3,\n",
        "    chi_1=0.02,\n",
        "    chi_2=0.02,\n",
        "    luminosity_distance=50.0,\n",
        "    theta_jn=0.4,\n",
        "    psi=2.659,\n",
        "    phase=1.3,\n",
        "    geocent_time=1126259642.413,\n",
        "    ra=1.375,\n",
        "    dec=-1.2108,\n",
        "    lambda_1=400,\n",
        "    lambda_2=450,\n",
        ")\n"
      ],
      "metadata": {
        "id": "I0sZKH5TZdfR"
      },
      "execution_count": 9,
      "outputs": []
    },
    {
      "cell_type": "code",
      "source": [
        "\n",
        "# Set the duration and sampling frequency of the data segment that we're going\n",
        "# to inject the signal into. For the\n",
        "# TaylorF2 waveform, we cut the signal close to the isco frequency\n",
        "duration = 32\n",
        "sampling_frequency = 2048\n",
        "start_time = injection_parameters[\"geocent_time\"] + 2 - duration\n",
        "\n"
      ],
      "metadata": {
        "id": "xJpyY-NhZevP"
      },
      "execution_count": 10,
      "outputs": []
    },
    {
      "cell_type": "code",
      "source": [
        "# Fixed arguments passed into the source model. The analysis starts at 40 Hz.\n",
        "waveform_arguments = dict(\n",
        "    waveform_approximant=\"IMRPhenomPv2_NRTidal\",\n",
        "    reference_frequency=50.0,\n",
        "    minimum_frequency=40.0,\n",
        ")\n"
      ],
      "metadata": {
        "id": "npXbNwsZZgbw"
      },
      "execution_count": 11,
      "outputs": []
    },
    {
      "cell_type": "code",
      "source": [
        "# Create the waveform_generator using a LAL Binary Neutron Star source function\n",
        "waveform_generator = bilby.gw.WaveformGenerator(\n",
        "    duration=duration,\n",
        "    sampling_frequency=sampling_frequency,\n",
        "    frequency_domain_source_model=bilby.gw.source.lal_binary_neutron_star,\n",
        "    parameter_conversion=bilby.gw.conversion.convert_to_lal_binary_neutron_star_parameters,\n",
        "    waveform_arguments=waveform_arguments,\n",
        ")\n"
      ],
      "metadata": {
        "colab": {
          "base_uri": "https://localhost:8080/"
        },
        "id": "nMxylrgxZhy1",
        "outputId": "48c20a41-e26b-492d-e557-df8ed2c4057c"
      },
      "execution_count": 12,
      "outputs": [
        {
          "output_type": "stream",
          "name": "stderr",
          "text": [
            "21:21 bilby INFO    : Waveform generator initiated with\n",
            "  frequency_domain_source_model: bilby.gw.source.lal_binary_neutron_star\n",
            "  time_domain_source_model: None\n",
            "  parameter_conversion: bilby.gw.conversion.convert_to_lal_binary_neutron_star_parameters\n"
          ]
        }
      ]
    },
    {
      "cell_type": "code",
      "source": [
        "# Set up interferometers.  In this case we'll use three interferometers\n",
        "# (LIGO-Hanford (H1), LIGO-Livingston (L1), and Virgo (V1)).\n",
        "# These default to their design sensitivity and start at 40 Hz.\n",
        "interferometers = bilby.gw.detector.InterferometerList([\"H1\", \"L1\", \"V1\"])\n",
        "for interferometer in interferometers:\n",
        "    interferometer.minimum_frequency = 40\n",
        "interferometers.set_strain_data_from_power_spectral_densities(\n",
        "    sampling_frequency=sampling_frequency, duration=duration, start_time=start_time\n",
        ")\n",
        "interferometers.inject_signal(\n",
        "    parameters=injection_parameters, waveform_generator=waveform_generator\n",
        ")\n"
      ],
      "metadata": {
        "colab": {
          "base_uri": "https://localhost:8080/"
        },
        "id": "TJng4Iv5Zi_c",
        "outputId": "0e84b121-6074-4d5e-821a-0f7b65f5c1e0"
      },
      "execution_count": 13,
      "outputs": [
        {
          "output_type": "stream",
          "name": "stderr",
          "text": [
            "21:21 bilby INFO    : Injected signal in H1:\n",
            "21:21 bilby INFO    :   optimal SNR = 34.44\n",
            "21:21 bilby INFO    :   matched filter SNR = 35.22-0.58j\n",
            "21:21 bilby INFO    :   mass_1 = 1.5\n",
            "21:21 bilby INFO    :   mass_2 = 1.3\n",
            "21:21 bilby INFO    :   chi_1 = 0.02\n",
            "21:21 bilby INFO    :   chi_2 = 0.02\n",
            "21:21 bilby INFO    :   luminosity_distance = 50.0\n",
            "21:21 bilby INFO    :   theta_jn = 0.4\n",
            "21:21 bilby INFO    :   psi = 2.659\n",
            "21:21 bilby INFO    :   phase = 1.3\n",
            "21:21 bilby INFO    :   geocent_time = 1126259642.413\n",
            "21:21 bilby INFO    :   ra = 1.375\n",
            "21:21 bilby INFO    :   dec = -1.2108\n",
            "21:21 bilby INFO    :   lambda_1 = 400\n",
            "21:21 bilby INFO    :   lambda_2 = 450\n",
            "21:21 bilby INFO    : Injected signal in L1:\n",
            "21:21 bilby INFO    :   optimal SNR = 27.88\n",
            "21:21 bilby INFO    :   matched filter SNR = 28.28+0.76j\n",
            "21:21 bilby INFO    :   mass_1 = 1.5\n",
            "21:21 bilby INFO    :   mass_2 = 1.3\n",
            "21:21 bilby INFO    :   chi_1 = 0.02\n",
            "21:21 bilby INFO    :   chi_2 = 0.02\n",
            "21:21 bilby INFO    :   luminosity_distance = 50.0\n",
            "21:21 bilby INFO    :   theta_jn = 0.4\n",
            "21:21 bilby INFO    :   psi = 2.659\n",
            "21:21 bilby INFO    :   phase = 1.3\n",
            "21:21 bilby INFO    :   geocent_time = 1126259642.413\n",
            "21:21 bilby INFO    :   ra = 1.375\n",
            "21:21 bilby INFO    :   dec = -1.2108\n",
            "21:21 bilby INFO    :   lambda_1 = 400\n",
            "21:21 bilby INFO    :   lambda_2 = 450\n",
            "21:21 bilby INFO    : Injected signal in V1:\n",
            "21:21 bilby INFO    :   optimal SNR = 29.56\n",
            "21:21 bilby INFO    :   matched filter SNR = 29.94+0.51j\n",
            "21:21 bilby INFO    :   mass_1 = 1.5\n",
            "21:21 bilby INFO    :   mass_2 = 1.3\n",
            "21:21 bilby INFO    :   chi_1 = 0.02\n",
            "21:21 bilby INFO    :   chi_2 = 0.02\n",
            "21:21 bilby INFO    :   luminosity_distance = 50.0\n",
            "21:21 bilby INFO    :   theta_jn = 0.4\n",
            "21:21 bilby INFO    :   psi = 2.659\n",
            "21:21 bilby INFO    :   phase = 1.3\n",
            "21:21 bilby INFO    :   geocent_time = 1126259642.413\n",
            "21:21 bilby INFO    :   ra = 1.375\n",
            "21:21 bilby INFO    :   dec = -1.2108\n",
            "21:21 bilby INFO    :   lambda_1 = 400\n",
            "21:21 bilby INFO    :   lambda_2 = 450\n"
          ]
        },
        {
          "output_type": "execute_result",
          "data": {
            "text/plain": [
              "[{'plus': array([ 0.00000000e+00-0.00000000e+00j,  0.00000000e+00-0.00000000e+00j,\n",
              "          0.00000000e+00-0.00000000e+00j, ...,\n",
              "         -4.02066493e-25+1.53786385e-25j, -4.02109206e-25+1.53625167e-25j,\n",
              "          0.00000000e+00-0.00000000e+00j]),\n",
              "  'cross': array([0.00000000e+00+0.00000000e+00j, 0.00000000e+00+0.00000000e+00j,\n",
              "         0.00000000e+00+0.00000000e+00j, ...,\n",
              "         1.53267924e-25+4.00711004e-25j, 1.53107249e-25+4.00753572e-25j,\n",
              "         0.00000000e+00+0.00000000e+00j])},\n",
              " {'plus': array([ 0.00000000e+00-0.00000000e+00j,  0.00000000e+00-0.00000000e+00j,\n",
              "          0.00000000e+00-0.00000000e+00j, ...,\n",
              "         -4.02066493e-25+1.53786385e-25j, -4.02109206e-25+1.53625167e-25j,\n",
              "          0.00000000e+00-0.00000000e+00j]),\n",
              "  'cross': array([0.00000000e+00+0.00000000e+00j, 0.00000000e+00+0.00000000e+00j,\n",
              "         0.00000000e+00+0.00000000e+00j, ...,\n",
              "         1.53267924e-25+4.00711004e-25j, 1.53107249e-25+4.00753572e-25j,\n",
              "         0.00000000e+00+0.00000000e+00j])},\n",
              " {'plus': array([ 0.00000000e+00-0.00000000e+00j,  0.00000000e+00-0.00000000e+00j,\n",
              "          0.00000000e+00-0.00000000e+00j, ...,\n",
              "         -4.02066493e-25+1.53786385e-25j, -4.02109206e-25+1.53625167e-25j,\n",
              "          0.00000000e+00-0.00000000e+00j]),\n",
              "  'cross': array([0.00000000e+00+0.00000000e+00j, 0.00000000e+00+0.00000000e+00j,\n",
              "         0.00000000e+00+0.00000000e+00j, ...,\n",
              "         1.53267924e-25+4.00711004e-25j, 1.53107249e-25+4.00753572e-25j,\n",
              "         0.00000000e+00+0.00000000e+00j])}]"
            ]
          },
          "metadata": {},
          "execution_count": 13
        }
      ]
    },
    {
      "cell_type": "code",
      "source": [
        "# Load the default prior for binary neutron stars.\n",
        "# We're going to sample in chirp_mass, symmetric_mass_ratio, lambda_tilde, and\n",
        "# delta_lambda rather than mass_1, mass_2, lambda_1, and lambda_2.\n",
        "# BNS have aligned spins by default, if you want to allow precessing spins\n",
        "# pass aligned_spin=False to the BNSPriorDict\n",
        "priors = bilby.gw.prior.BNSPriorDict()\n",
        "for key in [\n",
        "    \"psi\",\n",
        "    \"geocent_time\",\n",
        "    \"ra\",\n",
        "    \"dec\",\n",
        "    \"chi_1\",\n",
        "    \"chi_2\",\n",
        "    \"theta_jn\",\n",
        "    \"luminosity_distance\",\n",
        "    \"phase\",\n",
        "]:\n",
        "    priors[key] = injection_parameters[key]\n",
        "del priors[\"mass_ratio\"], priors[\"lambda_1\"], priors[\"lambda_2\"]\n",
        "priors[\"chirp_mass\"] = bilby.core.prior.Gaussian(\n",
        "    1.215, 0.1, name=\"chirp_mass\", unit=\"$M_{\\\\odot}$\"\n",
        ")\n",
        "priors[\"symmetric_mass_ratio\"] = bilby.core.prior.Uniform(\n",
        "    0.1, 0.25, name=\"symmetric_mass_ratio\"\n",
        ")\n",
        "priors[\"lambda_tilde\"] = bilby.core.prior.Uniform(0, 5000, name=\"lambda_tilde\")\n",
        "priors[\"delta_lambda\"] = bilby.core.prior.Uniform(-5000, 5000, name=\"delta_lambda\")\n",
        "\n"
      ],
      "metadata": {
        "colab": {
          "base_uri": "https://localhost:8080/",
          "height": 377
        },
        "id": "bVE6YngVZkaN",
        "outputId": "22e401cb-2c6f-472d-f884-b1234e8bbe99"
      },
      "execution_count": 14,
      "outputs": [
        {
          "output_type": "stream",
          "name": "stderr",
          "text": [
            "21:21 bilby INFO    : No prior given, using default BNS priors in /content/bilby/bilby/gw/prior_files/aligned_spins_bns_tides_on.prior.\n"
          ]
        },
        {
          "output_type": "error",
          "ename": "AttributeError",
          "evalue": "ignored",
          "traceback": [
            "\u001b[0;31m---------------------------------------------------------------------------\u001b[0m",
            "\u001b[0;31mAttributeError\u001b[0m                            Traceback (most recent call last)",
            "\u001b[0;32m<ipython-input-14-101e470d59e4>\u001b[0m in \u001b[0;36m<module>\u001b[0;34m\u001b[0m\n\u001b[1;32m      4\u001b[0m \u001b[0;31m# BNS have aligned spins by default, if you want to allow precessing spins\u001b[0m\u001b[0;34m\u001b[0m\u001b[0;34m\u001b[0m\u001b[0;34m\u001b[0m\u001b[0m\n\u001b[1;32m      5\u001b[0m \u001b[0;31m# pass aligned_spin=False to the BNSPriorDict\u001b[0m\u001b[0;34m\u001b[0m\u001b[0;34m\u001b[0m\u001b[0;34m\u001b[0m\u001b[0m\n\u001b[0;32m----> 6\u001b[0;31m \u001b[0mpriors\u001b[0m \u001b[0;34m=\u001b[0m \u001b[0mbilby\u001b[0m\u001b[0;34m.\u001b[0m\u001b[0mgw\u001b[0m\u001b[0;34m.\u001b[0m\u001b[0mprior\u001b[0m\u001b[0;34m.\u001b[0m\u001b[0mBNSPriorDict\u001b[0m\u001b[0;34m(\u001b[0m\u001b[0;34m)\u001b[0m\u001b[0;34m\u001b[0m\u001b[0;34m\u001b[0m\u001b[0m\n\u001b[0m\u001b[1;32m      7\u001b[0m for key in [\n\u001b[1;32m      8\u001b[0m     \u001b[0;34m\"psi\"\u001b[0m\u001b[0;34m,\u001b[0m\u001b[0;34m\u001b[0m\u001b[0;34m\u001b[0m\u001b[0m\n",
            "\u001b[0;32m/content/bilby/bilby/gw/prior.py\u001b[0m in \u001b[0;36m__init__\u001b[0;34m(self, dictionary, filename, aligned_spin, conversion_function)\u001b[0m\n\u001b[1;32m    959\u001b[0m                 \u001b[0mfilename\u001b[0m \u001b[0;34m=\u001b[0m \u001b[0mos\u001b[0m\u001b[0;34m.\u001b[0m\u001b[0mpath\u001b[0m\u001b[0;34m.\u001b[0m\u001b[0mjoin\u001b[0m\u001b[0;34m(\u001b[0m\u001b[0mDEFAULT_PRIOR_DIR\u001b[0m\u001b[0;34m,\u001b[0m \u001b[0mfilename\u001b[0m\u001b[0;34m)\u001b[0m\u001b[0;34m\u001b[0m\u001b[0;34m\u001b[0m\u001b[0m\n\u001b[1;32m    960\u001b[0m         super(BNSPriorDict, self).__init__(dictionary=dictionary, filename=filename,\n\u001b[0;32m--> 961\u001b[0;31m                                            conversion_function=conversion_function)\n\u001b[0m\u001b[1;32m    962\u001b[0m \u001b[0;34m\u001b[0m\u001b[0m\n\u001b[1;32m    963\u001b[0m     \u001b[0;32mdef\u001b[0m \u001b[0mdefault_conversion_function\u001b[0m\u001b[0;34m(\u001b[0m\u001b[0mself\u001b[0m\u001b[0;34m,\u001b[0m \u001b[0msample\u001b[0m\u001b[0;34m)\u001b[0m\u001b[0;34m:\u001b[0m\u001b[0;34m\u001b[0m\u001b[0;34m\u001b[0m\u001b[0m\n",
            "\u001b[0;32m/content/bilby/bilby/core/prior/dict.py\u001b[0m in \u001b[0;36m__init__\u001b[0;34m(self, dictionary, filename, conversion_function)\u001b[0m\n\u001b[1;32m    668\u001b[0m             \u001b[0mdictionary\u001b[0m\u001b[0;34m=\u001b[0m\u001b[0mdictionary\u001b[0m\u001b[0;34m,\u001b[0m\u001b[0;34m\u001b[0m\u001b[0;34m\u001b[0m\u001b[0m\n\u001b[1;32m    669\u001b[0m             \u001b[0mfilename\u001b[0m\u001b[0;34m=\u001b[0m\u001b[0mfilename\u001b[0m\u001b[0;34m,\u001b[0m\u001b[0;34m\u001b[0m\u001b[0;34m\u001b[0m\u001b[0m\n\u001b[0;32m--> 670\u001b[0;31m             \u001b[0mconversion_function\u001b[0m\u001b[0;34m=\u001b[0m\u001b[0mconversion_function\u001b[0m\u001b[0;34m,\u001b[0m\u001b[0;34m\u001b[0m\u001b[0;34m\u001b[0m\u001b[0m\n\u001b[0m\u001b[1;32m    671\u001b[0m         )\n\u001b[1;32m    672\u001b[0m         \u001b[0mself\u001b[0m\u001b[0;34m.\u001b[0m\u001b[0m_resolved\u001b[0m \u001b[0;34m=\u001b[0m \u001b[0;32mFalse\u001b[0m\u001b[0;34m\u001b[0m\u001b[0;34m\u001b[0m\u001b[0m\n",
            "\u001b[0;32m/content/bilby/bilby/core/prior/dict.py\u001b[0m in \u001b[0;36m__init__\u001b[0;34m(self, dictionary, filename, conversion_function)\u001b[0m\n\u001b[1;32m     42\u001b[0m             \u001b[0mself\u001b[0m\u001b[0;34m.\u001b[0m\u001b[0mfrom_file\u001b[0m\u001b[0;34m(\u001b[0m\u001b[0mdictionary\u001b[0m\u001b[0;34m)\u001b[0m\u001b[0;34m\u001b[0m\u001b[0;34m\u001b[0m\u001b[0m\n\u001b[1;32m     43\u001b[0m         \u001b[0;32melif\u001b[0m \u001b[0mtype\u001b[0m\u001b[0;34m(\u001b[0m\u001b[0mfilename\u001b[0m\u001b[0;34m)\u001b[0m \u001b[0;32mis\u001b[0m \u001b[0mstr\u001b[0m\u001b[0;34m:\u001b[0m\u001b[0;34m\u001b[0m\u001b[0;34m\u001b[0m\u001b[0m\n\u001b[0;32m---> 44\u001b[0;31m             \u001b[0mself\u001b[0m\u001b[0;34m.\u001b[0m\u001b[0mfrom_file\u001b[0m\u001b[0;34m(\u001b[0m\u001b[0mfilename\u001b[0m\u001b[0;34m)\u001b[0m\u001b[0;34m\u001b[0m\u001b[0;34m\u001b[0m\u001b[0m\n\u001b[0m\u001b[1;32m     45\u001b[0m         \u001b[0;32melif\u001b[0m \u001b[0mdictionary\u001b[0m \u001b[0;32mis\u001b[0m \u001b[0;32mnot\u001b[0m \u001b[0;32mNone\u001b[0m\u001b[0;34m:\u001b[0m\u001b[0;34m\u001b[0m\u001b[0;34m\u001b[0m\u001b[0m\n\u001b[1;32m     46\u001b[0m             \u001b[0;32mraise\u001b[0m \u001b[0mValueError\u001b[0m\u001b[0;34m(\u001b[0m\u001b[0;34m\"PriorDict input dictionary not understood\"\u001b[0m\u001b[0;34m)\u001b[0m\u001b[0;34m\u001b[0m\u001b[0;34m\u001b[0m\u001b[0m\n",
            "\u001b[0;32m/content/bilby/bilby/core/prior/dict.py\u001b[0m in \u001b[0;36mfrom_file\u001b[0;34m(self, filename)\u001b[0m\n\u001b[1;32m    156\u001b[0m                 \u001b[0mval\u001b[0m \u001b[0;34m=\u001b[0m \u001b[0;34m\"=\"\u001b[0m\u001b[0;34m.\u001b[0m\u001b[0mjoin\u001b[0m\u001b[0;34m(\u001b[0m\u001b[0melements\u001b[0m\u001b[0;34m[\u001b[0m\u001b[0;36m1\u001b[0m\u001b[0;34m:\u001b[0m\u001b[0;34m]\u001b[0m\u001b[0;34m)\u001b[0m\u001b[0;34m.\u001b[0m\u001b[0mstrip\u001b[0m\u001b[0;34m(\u001b[0m\u001b[0;34m)\u001b[0m\u001b[0;34m\u001b[0m\u001b[0;34m\u001b[0m\u001b[0m\n\u001b[1;32m    157\u001b[0m                 \u001b[0mprior\u001b[0m\u001b[0;34m[\u001b[0m\u001b[0mkey\u001b[0m\u001b[0;34m]\u001b[0m \u001b[0;34m=\u001b[0m \u001b[0mval\u001b[0m\u001b[0;34m\u001b[0m\u001b[0;34m\u001b[0m\u001b[0m\n\u001b[0;32m--> 158\u001b[0;31m         \u001b[0mself\u001b[0m\u001b[0;34m.\u001b[0m\u001b[0mfrom_dictionary\u001b[0m\u001b[0;34m(\u001b[0m\u001b[0mprior\u001b[0m\u001b[0;34m)\u001b[0m\u001b[0;34m\u001b[0m\u001b[0;34m\u001b[0m\u001b[0m\n\u001b[0m\u001b[1;32m    159\u001b[0m \u001b[0;34m\u001b[0m\u001b[0m\n\u001b[1;32m    160\u001b[0m     \u001b[0;34m@\u001b[0m\u001b[0mclassmethod\u001b[0m\u001b[0;34m\u001b[0m\u001b[0;34m\u001b[0m\u001b[0m\n",
            "\u001b[0;32m/content/bilby/bilby/core/prior/dict.py\u001b[0m in \u001b[0;36mfrom_dictionary\u001b[0;34m(self, dictionary)\u001b[0m\n\u001b[1;32m    277\u001b[0m                 \u001b[0;32melse\u001b[0m\u001b[0;34m:\u001b[0m\u001b[0;34m\u001b[0m\u001b[0;34m\u001b[0m\u001b[0m\n\u001b[1;32m    278\u001b[0m                     \u001b[0;32mtry\u001b[0m\u001b[0;34m:\u001b[0m\u001b[0;34m\u001b[0m\u001b[0;34m\u001b[0m\u001b[0m\n\u001b[0;32m--> 279\u001b[0;31m                         \u001b[0mdictionary\u001b[0m\u001b[0;34m[\u001b[0m\u001b[0mkey\u001b[0m\u001b[0;34m]\u001b[0m \u001b[0;34m=\u001b[0m \u001b[0mcls\u001b[0m\u001b[0;34m.\u001b[0m\u001b[0mfrom_repr\u001b[0m\u001b[0;34m(\u001b[0m\u001b[0margs\u001b[0m\u001b[0;34m)\u001b[0m\u001b[0;34m\u001b[0m\u001b[0;34m\u001b[0m\u001b[0m\n\u001b[0m\u001b[1;32m    280\u001b[0m                     \u001b[0;32mexcept\u001b[0m \u001b[0mTypeError\u001b[0m \u001b[0;32mas\u001b[0m \u001b[0me\u001b[0m\u001b[0;34m:\u001b[0m\u001b[0;34m\u001b[0m\u001b[0;34m\u001b[0m\u001b[0m\n\u001b[1;32m    281\u001b[0m                         raise TypeError(\n",
            "\u001b[0;32m/content/bilby/bilby/gw/prior.py\u001b[0m in \u001b[0;36mfrom_repr\u001b[0;34m(cls, string)\u001b[0m\n\u001b[1;32m    291\u001b[0m             \u001b[0;32mreturn\u001b[0m \u001b[0mstring\u001b[0m\u001b[0;34m\u001b[0m\u001b[0;34m\u001b[0m\u001b[0m\n\u001b[1;32m    292\u001b[0m         \u001b[0;32melse\u001b[0m\u001b[0;34m:\u001b[0m\u001b[0;34m\u001b[0m\u001b[0;34m\u001b[0m\u001b[0m\n\u001b[0;32m--> 293\u001b[0;31m             \u001b[0;32mreturn\u001b[0m \u001b[0mcls\u001b[0m\u001b[0;34m.\u001b[0m\u001b[0m_from_repr\u001b[0m\u001b[0;34m(\u001b[0m\u001b[0mstring\u001b[0m\u001b[0;34m)\u001b[0m\u001b[0;34m\u001b[0m\u001b[0;34m\u001b[0m\u001b[0m\n\u001b[0m\u001b[1;32m    294\u001b[0m \u001b[0;34m\u001b[0m\u001b[0m\n\u001b[1;32m    295\u001b[0m     \u001b[0;34m@\u001b[0m\u001b[0mproperty\u001b[0m\u001b[0;34m\u001b[0m\u001b[0;34m\u001b[0m\u001b[0m\n",
            "\u001b[0;32m/content/bilby/bilby/core/prior/base.py\u001b[0m in \u001b[0;36m_from_repr\u001b[0;34m(cls, string)\u001b[0m\n\u001b[1;32m    361\u001b[0m                     \u001b[0mname\u001b[0m \u001b[0;34m=\u001b[0m \u001b[0mkwargs\u001b[0m\u001b[0;34m[\u001b[0m\u001b[0mkey\u001b[0m\u001b[0;34m]\u001b[0m\u001b[0;34m\u001b[0m\u001b[0;34m\u001b[0m\u001b[0m\n\u001b[1;32m    362\u001b[0m                 \u001b[0mkwargs\u001b[0m\u001b[0;34m[\u001b[0m\u001b[0mkey\u001b[0m\u001b[0;34m]\u001b[0m \u001b[0;34m=\u001b[0m \u001b[0mgetattr\u001b[0m\u001b[0;34m(\u001b[0m\u001b[0mimport_module\u001b[0m\u001b[0;34m(\u001b[0m\u001b[0mmodule\u001b[0m\u001b[0;34m)\u001b[0m\u001b[0;34m,\u001b[0m \u001b[0mname\u001b[0m\u001b[0;34m)\u001b[0m\u001b[0;34m\u001b[0m\u001b[0;34m\u001b[0m\u001b[0m\n\u001b[0;32m--> 363\u001b[0;31m         \u001b[0;32mreturn\u001b[0m \u001b[0mcls\u001b[0m\u001b[0;34m(\u001b[0m\u001b[0;34m**\u001b[0m\u001b[0mkwargs\u001b[0m\u001b[0;34m)\u001b[0m\u001b[0;34m\u001b[0m\u001b[0;34m\u001b[0m\u001b[0m\n\u001b[0m\u001b[1;32m    364\u001b[0m \u001b[0;34m\u001b[0m\u001b[0m\n\u001b[1;32m    365\u001b[0m     \u001b[0;34m@\u001b[0m\u001b[0mclassmethod\u001b[0m\u001b[0;34m\u001b[0m\u001b[0;34m\u001b[0m\u001b[0m\n",
            "\u001b[0;32m/content/bilby/bilby/gw/prior.py\u001b[0m in \u001b[0;36m__init__\u001b[0;34m(self, minimum, maximum, cosmology, name, latex_label, unit, boundary)\u001b[0m\n\u001b[1;32m    149\u001b[0m         \u001b[0mself\u001b[0m\u001b[0;34m.\u001b[0m\u001b[0m_minimum\u001b[0m \u001b[0;34m=\u001b[0m \u001b[0mdict\u001b[0m\u001b[0;34m(\u001b[0m\u001b[0;34m)\u001b[0m\u001b[0;34m\u001b[0m\u001b[0;34m\u001b[0m\u001b[0m\n\u001b[1;32m    150\u001b[0m         \u001b[0mself\u001b[0m\u001b[0;34m.\u001b[0m\u001b[0m_maximum\u001b[0m \u001b[0;34m=\u001b[0m \u001b[0mdict\u001b[0m\u001b[0;34m(\u001b[0m\u001b[0;34m)\u001b[0m\u001b[0;34m\u001b[0m\u001b[0;34m\u001b[0m\u001b[0m\n\u001b[0;32m--> 151\u001b[0;31m         \u001b[0mself\u001b[0m\u001b[0;34m.\u001b[0m\u001b[0mminimum\u001b[0m \u001b[0;34m=\u001b[0m \u001b[0mminimum\u001b[0m\u001b[0;34m\u001b[0m\u001b[0;34m\u001b[0m\u001b[0m\n\u001b[0m\u001b[1;32m    152\u001b[0m         \u001b[0mself\u001b[0m\u001b[0;34m.\u001b[0m\u001b[0mmaximum\u001b[0m \u001b[0;34m=\u001b[0m \u001b[0mmaximum\u001b[0m\u001b[0;34m\u001b[0m\u001b[0;34m\u001b[0m\u001b[0m\n\u001b[1;32m    153\u001b[0m         \u001b[0;32mif\u001b[0m \u001b[0mname\u001b[0m \u001b[0;34m==\u001b[0m \u001b[0;34m'redshift'\u001b[0m\u001b[0;34m:\u001b[0m\u001b[0;34m\u001b[0m\u001b[0;34m\u001b[0m\u001b[0m\n",
            "\u001b[0;32m/content/bilby/bilby/gw/prior.py\u001b[0m in \u001b[0;36mminimum\u001b[0;34m(self, minimum)\u001b[0m\n\u001b[1;32m    171\u001b[0m             \u001b[0mself\u001b[0m\u001b[0;34m.\u001b[0m\u001b[0m_set_limit\u001b[0m\u001b[0;34m(\u001b[0m\u001b[0mvalue\u001b[0m\u001b[0;34m=\u001b[0m\u001b[0mminimum\u001b[0m\u001b[0;34m,\u001b[0m \u001b[0mlimit_dict\u001b[0m\u001b[0;34m=\u001b[0m\u001b[0mself\u001b[0m\u001b[0;34m.\u001b[0m\u001b[0m_minimum\u001b[0m\u001b[0;34m,\u001b[0m \u001b[0mrecalculate_array\u001b[0m\u001b[0;34m=\u001b[0m\u001b[0;32mTrue\u001b[0m\u001b[0;34m)\u001b[0m\u001b[0;34m\u001b[0m\u001b[0;34m\u001b[0m\u001b[0m\n\u001b[1;32m    172\u001b[0m         \u001b[0;32melse\u001b[0m\u001b[0;34m:\u001b[0m\u001b[0;34m\u001b[0m\u001b[0;34m\u001b[0m\u001b[0m\n\u001b[0;32m--> 173\u001b[0;31m             \u001b[0mself\u001b[0m\u001b[0;34m.\u001b[0m\u001b[0m_set_limit\u001b[0m\u001b[0;34m(\u001b[0m\u001b[0mvalue\u001b[0m\u001b[0;34m=\u001b[0m\u001b[0mminimum\u001b[0m\u001b[0;34m,\u001b[0m \u001b[0mlimit_dict\u001b[0m\u001b[0;34m=\u001b[0m\u001b[0mself\u001b[0m\u001b[0;34m.\u001b[0m\u001b[0m_minimum\u001b[0m\u001b[0;34m)\u001b[0m\u001b[0;34m\u001b[0m\u001b[0;34m\u001b[0m\u001b[0m\n\u001b[0m\u001b[1;32m    174\u001b[0m \u001b[0;34m\u001b[0m\u001b[0m\n\u001b[1;32m    175\u001b[0m     \u001b[0;34m@\u001b[0m\u001b[0mproperty\u001b[0m\u001b[0;34m\u001b[0m\u001b[0;34m\u001b[0m\u001b[0m\n",
            "\u001b[0;32m/content/bilby/bilby/gw/prior.py\u001b[0m in \u001b[0;36m_set_limit\u001b[0;34m(self, value, limit_dict, recalculate_array)\u001b[0m\n\u001b[1;32m    209\u001b[0m             \u001b[0;32melse\u001b[0m\u001b[0;34m:\u001b[0m\u001b[0;34m\u001b[0m\u001b[0;34m\u001b[0m\u001b[0m\n\u001b[1;32m    210\u001b[0m                 limit_dict['redshift'] = z_at_value(\n\u001b[0;32m--> 211\u001b[0;31m                     \u001b[0mcosmology\u001b[0m\u001b[0;34m.\u001b[0m\u001b[0mluminosity_distance\u001b[0m\u001b[0;34m,\u001b[0m \u001b[0mvalue\u001b[0m \u001b[0;34m*\u001b[0m \u001b[0mself\u001b[0m\u001b[0;34m.\u001b[0m\u001b[0munit\u001b[0m\u001b[0;34m\u001b[0m\u001b[0;34m\u001b[0m\u001b[0m\n\u001b[0m\u001b[1;32m    212\u001b[0m                 )\n\u001b[1;32m    213\u001b[0m             limit_dict['comoving_distance'] = (\n",
            "\u001b[0;32m/content/bilby/bilby/gw/cosmology.py\u001b[0m in \u001b[0;36mz_at_value\u001b[0;34m(func, fval, **kwargs)\u001b[0m\n\u001b[1;32m     91\u001b[0m     \"\"\"\n\u001b[1;32m     92\u001b[0m     \u001b[0;32mfrom\u001b[0m \u001b[0mastropy\u001b[0m\u001b[0;34m.\u001b[0m\u001b[0mcosmology\u001b[0m \u001b[0;32mimport\u001b[0m \u001b[0mz_at_value\u001b[0m\u001b[0;34m\u001b[0m\u001b[0;34m\u001b[0m\u001b[0m\n\u001b[0;32m---> 93\u001b[0;31m     \u001b[0;32mreturn\u001b[0m \u001b[0mz_at_value\u001b[0m\u001b[0;34m(\u001b[0m\u001b[0mfunc\u001b[0m\u001b[0;34m=\u001b[0m\u001b[0mfunc\u001b[0m\u001b[0;34m,\u001b[0m \u001b[0mfval\u001b[0m\u001b[0;34m=\u001b[0m\u001b[0mfval\u001b[0m\u001b[0;34m,\u001b[0m \u001b[0;34m**\u001b[0m\u001b[0mkwargs\u001b[0m\u001b[0;34m)\u001b[0m\u001b[0;34m.\u001b[0m\u001b[0mvalue\u001b[0m\u001b[0;34m\u001b[0m\u001b[0;34m\u001b[0m\u001b[0m\n\u001b[0m",
            "\u001b[0;31mAttributeError\u001b[0m: 'numpy.float64' object has no attribute 'value'"
          ]
        }
      ]
    },
    {
      "cell_type": "code",
      "source": [
        "# Initialise the likelihood by passing in the interferometer data (IFOs)\n",
        "# and the waveform generator\n",
        "likelihood = bilby.gw.GravitationalWaveTransient(\n",
        "    interferometers=interferometers,\n",
        "    waveform_generator=waveform_generator,\n",
        ")\n",
        "\n"
      ],
      "metadata": {
        "id": "rkoInb14ZmiK"
      },
      "execution_count": null,
      "outputs": []
    },
    {
      "cell_type": "code",
      "source": [
        "\n",
        "# Run sampler.  In this case we're going to use the `nestle` sampler\n",
        "result = bilby.run_sampler(\n",
        "    likelihood=likelihood,\n",
        "    priors=priors,\n",
        "    sampler=\"nestle\",\n",
        "    npoints=100,\n",
        "    injection_parameters=injection_parameters,\n",
        "    outdir=outdir,\n",
        "    label=label,\n",
        "    conversion_function=bilby.gw.conversion.generate_all_bns_parameters,\n",
        ")\n",
        "\n",
        "result.plot_corner()\n"
      ],
      "metadata": {
        "id": "NwhSYjAeZoga"
      },
      "execution_count": null,
      "outputs": []
    },
    {
      "cell_type": "code",
      "source": [],
      "metadata": {
        "id": "aUQRXa2SZqIq"
      },
      "execution_count": null,
      "outputs": []
    }
  ]
}