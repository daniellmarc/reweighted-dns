{
  "nbformat": 4,
  "nbformat_minor": 0,
  "metadata": {
    "colab": {
      "provenance": [],
      "authorship_tag": "ABX9TyMQdo50GJsnw+GL9ck1z9wf",
      "include_colab_link": true
    },
    "kernelspec": {
      "name": "python3",
      "display_name": "Python 3"
    },
    "language_info": {
      "name": "python"
    },
    "widgets": {
      "application/vnd.jupyter.widget-state+json": {
        "d522afb6bb3444b885938f78bda06948": {
          "model_module": "@jupyter-widgets/controls",
          "model_name": "HBoxModel",
          "model_module_version": "1.5.0",
          "state": {
            "_dom_classes": [],
            "_model_module": "@jupyter-widgets/controls",
            "_model_module_version": "1.5.0",
            "_model_name": "HBoxModel",
            "_view_count": null,
            "_view_module": "@jupyter-widgets/controls",
            "_view_module_version": "1.5.0",
            "_view_name": "HBoxView",
            "box_style": "",
            "children": [
              "IPY_MODEL_5d214fcac83e4e5caf47becc1d8953ea",
              "IPY_MODEL_16f5848ce6d04dba8427bacc25509b85",
              "IPY_MODEL_0d75e3ddf3c941a0b6badc662d00d2c7"
            ],
            "layout": "IPY_MODEL_45d1259d7dba4533ab7e32672ef03199"
          }
        },
        "5d214fcac83e4e5caf47becc1d8953ea": {
          "model_module": "@jupyter-widgets/controls",
          "model_name": "HTMLModel",
          "model_module_version": "1.5.0",
          "state": {
            "_dom_classes": [],
            "_model_module": "@jupyter-widgets/controls",
            "_model_module_version": "1.5.0",
            "_model_name": "HTMLModel",
            "_view_count": null,
            "_view_module": "@jupyter-widgets/controls",
            "_view_module_version": "1.5.0",
            "_view_name": "HTMLView",
            "description": "",
            "description_tooltip": null,
            "layout": "IPY_MODEL_faa8d99290d84e03af152d665891ba55",
            "placeholder": "​",
            "style": "IPY_MODEL_dd276b42cf2549ba89b2fa066a7e5e5f",
            "value": "100%"
          }
        },
        "16f5848ce6d04dba8427bacc25509b85": {
          "model_module": "@jupyter-widgets/controls",
          "model_name": "FloatProgressModel",
          "model_module_version": "1.5.0",
          "state": {
            "_dom_classes": [],
            "_model_module": "@jupyter-widgets/controls",
            "_model_module_version": "1.5.0",
            "_model_name": "FloatProgressModel",
            "_view_count": null,
            "_view_module": "@jupyter-widgets/controls",
            "_view_module_version": "1.5.0",
            "_view_name": "ProgressView",
            "bar_style": "success",
            "description": "",
            "description_tooltip": null,
            "layout": "IPY_MODEL_d463defae01045fc8a7c85f8785a1f14",
            "max": 2338,
            "min": 0,
            "orientation": "horizontal",
            "style": "IPY_MODEL_4358947fefe84d65bcff6ab096c48a4c",
            "value": 2338
          }
        },
        "0d75e3ddf3c941a0b6badc662d00d2c7": {
          "model_module": "@jupyter-widgets/controls",
          "model_name": "HTMLModel",
          "model_module_version": "1.5.0",
          "state": {
            "_dom_classes": [],
            "_model_module": "@jupyter-widgets/controls",
            "_model_module_version": "1.5.0",
            "_model_name": "HTMLModel",
            "_view_count": null,
            "_view_module": "@jupyter-widgets/controls",
            "_view_module_version": "1.5.0",
            "_view_name": "HTMLView",
            "description": "",
            "description_tooltip": null,
            "layout": "IPY_MODEL_92e71551e50a466bb977ab526e9554a9",
            "placeholder": "​",
            "style": "IPY_MODEL_c72829ddeb3a4d05bf300314b1db7519",
            "value": " 2338/2338 [00:00&lt;00:00, 3240.02it/s]"
          }
        },
        "45d1259d7dba4533ab7e32672ef03199": {
          "model_module": "@jupyter-widgets/base",
          "model_name": "LayoutModel",
          "model_module_version": "1.2.0",
          "state": {
            "_model_module": "@jupyter-widgets/base",
            "_model_module_version": "1.2.0",
            "_model_name": "LayoutModel",
            "_view_count": null,
            "_view_module": "@jupyter-widgets/base",
            "_view_module_version": "1.2.0",
            "_view_name": "LayoutView",
            "align_content": null,
            "align_items": null,
            "align_self": null,
            "border": null,
            "bottom": null,
            "display": null,
            "flex": null,
            "flex_flow": null,
            "grid_area": null,
            "grid_auto_columns": null,
            "grid_auto_flow": null,
            "grid_auto_rows": null,
            "grid_column": null,
            "grid_gap": null,
            "grid_row": null,
            "grid_template_areas": null,
            "grid_template_columns": null,
            "grid_template_rows": null,
            "height": null,
            "justify_content": null,
            "justify_items": null,
            "left": null,
            "margin": null,
            "max_height": null,
            "max_width": null,
            "min_height": null,
            "min_width": null,
            "object_fit": null,
            "object_position": null,
            "order": null,
            "overflow": null,
            "overflow_x": null,
            "overflow_y": null,
            "padding": null,
            "right": null,
            "top": null,
            "visibility": null,
            "width": null
          }
        },
        "faa8d99290d84e03af152d665891ba55": {
          "model_module": "@jupyter-widgets/base",
          "model_name": "LayoutModel",
          "model_module_version": "1.2.0",
          "state": {
            "_model_module": "@jupyter-widgets/base",
            "_model_module_version": "1.2.0",
            "_model_name": "LayoutModel",
            "_view_count": null,
            "_view_module": "@jupyter-widgets/base",
            "_view_module_version": "1.2.0",
            "_view_name": "LayoutView",
            "align_content": null,
            "align_items": null,
            "align_self": null,
            "border": null,
            "bottom": null,
            "display": null,
            "flex": null,
            "flex_flow": null,
            "grid_area": null,
            "grid_auto_columns": null,
            "grid_auto_flow": null,
            "grid_auto_rows": null,
            "grid_column": null,
            "grid_gap": null,
            "grid_row": null,
            "grid_template_areas": null,
            "grid_template_columns": null,
            "grid_template_rows": null,
            "height": null,
            "justify_content": null,
            "justify_items": null,
            "left": null,
            "margin": null,
            "max_height": null,
            "max_width": null,
            "min_height": null,
            "min_width": null,
            "object_fit": null,
            "object_position": null,
            "order": null,
            "overflow": null,
            "overflow_x": null,
            "overflow_y": null,
            "padding": null,
            "right": null,
            "top": null,
            "visibility": null,
            "width": null
          }
        },
        "dd276b42cf2549ba89b2fa066a7e5e5f": {
          "model_module": "@jupyter-widgets/controls",
          "model_name": "DescriptionStyleModel",
          "model_module_version": "1.5.0",
          "state": {
            "_model_module": "@jupyter-widgets/controls",
            "_model_module_version": "1.5.0",
            "_model_name": "DescriptionStyleModel",
            "_view_count": null,
            "_view_module": "@jupyter-widgets/base",
            "_view_module_version": "1.2.0",
            "_view_name": "StyleView",
            "description_width": ""
          }
        },
        "d463defae01045fc8a7c85f8785a1f14": {
          "model_module": "@jupyter-widgets/base",
          "model_name": "LayoutModel",
          "model_module_version": "1.2.0",
          "state": {
            "_model_module": "@jupyter-widgets/base",
            "_model_module_version": "1.2.0",
            "_model_name": "LayoutModel",
            "_view_count": null,
            "_view_module": "@jupyter-widgets/base",
            "_view_module_version": "1.2.0",
            "_view_name": "LayoutView",
            "align_content": null,
            "align_items": null,
            "align_self": null,
            "border": null,
            "bottom": null,
            "display": null,
            "flex": null,
            "flex_flow": null,
            "grid_area": null,
            "grid_auto_columns": null,
            "grid_auto_flow": null,
            "grid_auto_rows": null,
            "grid_column": null,
            "grid_gap": null,
            "grid_row": null,
            "grid_template_areas": null,
            "grid_template_columns": null,
            "grid_template_rows": null,
            "height": null,
            "justify_content": null,
            "justify_items": null,
            "left": null,
            "margin": null,
            "max_height": null,
            "max_width": null,
            "min_height": null,
            "min_width": null,
            "object_fit": null,
            "object_position": null,
            "order": null,
            "overflow": null,
            "overflow_x": null,
            "overflow_y": null,
            "padding": null,
            "right": null,
            "top": null,
            "visibility": null,
            "width": null
          }
        },
        "4358947fefe84d65bcff6ab096c48a4c": {
          "model_module": "@jupyter-widgets/controls",
          "model_name": "ProgressStyleModel",
          "model_module_version": "1.5.0",
          "state": {
            "_model_module": "@jupyter-widgets/controls",
            "_model_module_version": "1.5.0",
            "_model_name": "ProgressStyleModel",
            "_view_count": null,
            "_view_module": "@jupyter-widgets/base",
            "_view_module_version": "1.2.0",
            "_view_name": "StyleView",
            "bar_color": null,
            "description_width": ""
          }
        },
        "92e71551e50a466bb977ab526e9554a9": {
          "model_module": "@jupyter-widgets/base",
          "model_name": "LayoutModel",
          "model_module_version": "1.2.0",
          "state": {
            "_model_module": "@jupyter-widgets/base",
            "_model_module_version": "1.2.0",
            "_model_name": "LayoutModel",
            "_view_count": null,
            "_view_module": "@jupyter-widgets/base",
            "_view_module_version": "1.2.0",
            "_view_name": "LayoutView",
            "align_content": null,
            "align_items": null,
            "align_self": null,
            "border": null,
            "bottom": null,
            "display": null,
            "flex": null,
            "flex_flow": null,
            "grid_area": null,
            "grid_auto_columns": null,
            "grid_auto_flow": null,
            "grid_auto_rows": null,
            "grid_column": null,
            "grid_gap": null,
            "grid_row": null,
            "grid_template_areas": null,
            "grid_template_columns": null,
            "grid_template_rows": null,
            "height": null,
            "justify_content": null,
            "justify_items": null,
            "left": null,
            "margin": null,
            "max_height": null,
            "max_width": null,
            "min_height": null,
            "min_width": null,
            "object_fit": null,
            "object_position": null,
            "order": null,
            "overflow": null,
            "overflow_x": null,
            "overflow_y": null,
            "padding": null,
            "right": null,
            "top": null,
            "visibility": null,
            "width": null
          }
        },
        "c72829ddeb3a4d05bf300314b1db7519": {
          "model_module": "@jupyter-widgets/controls",
          "model_name": "DescriptionStyleModel",
          "model_module_version": "1.5.0",
          "state": {
            "_model_module": "@jupyter-widgets/controls",
            "_model_module_version": "1.5.0",
            "_model_name": "DescriptionStyleModel",
            "_view_count": null,
            "_view_module": "@jupyter-widgets/base",
            "_view_module_version": "1.2.0",
            "_view_name": "StyleView",
            "description_width": ""
          }
        },
        "80ea520854414926a52bff37f739ab75": {
          "model_module": "@jupyter-widgets/controls",
          "model_name": "HBoxModel",
          "model_module_version": "1.5.0",
          "state": {
            "_dom_classes": [],
            "_model_module": "@jupyter-widgets/controls",
            "_model_module_version": "1.5.0",
            "_model_name": "HBoxModel",
            "_view_count": null,
            "_view_module": "@jupyter-widgets/controls",
            "_view_module_version": "1.5.0",
            "_view_name": "HBoxView",
            "box_style": "",
            "children": [
              "IPY_MODEL_375f6ecff1574b6496efbec9c03e6595",
              "IPY_MODEL_0fa2f7d3a298489caa100348c86aa4d4",
              "IPY_MODEL_fec440b4098a4668b7740b35d7d69189"
            ],
            "layout": "IPY_MODEL_51833b8529e84e3bb48b8ef5c9e383a1"
          }
        },
        "375f6ecff1574b6496efbec9c03e6595": {
          "model_module": "@jupyter-widgets/controls",
          "model_name": "HTMLModel",
          "model_module_version": "1.5.0",
          "state": {
            "_dom_classes": [],
            "_model_module": "@jupyter-widgets/controls",
            "_model_module_version": "1.5.0",
            "_model_name": "HTMLModel",
            "_view_count": null,
            "_view_module": "@jupyter-widgets/controls",
            "_view_module_version": "1.5.0",
            "_view_name": "HTMLView",
            "description": "",
            "description_tooltip": null,
            "layout": "IPY_MODEL_d6a6f718256e40f88e0642f3e7fa8c40",
            "placeholder": "​",
            "style": "IPY_MODEL_26f2f3dafc384e8e991d8ede1cecb35e",
            "value": "100%"
          }
        },
        "0fa2f7d3a298489caa100348c86aa4d4": {
          "model_module": "@jupyter-widgets/controls",
          "model_name": "FloatProgressModel",
          "model_module_version": "1.5.0",
          "state": {
            "_dom_classes": [],
            "_model_module": "@jupyter-widgets/controls",
            "_model_module_version": "1.5.0",
            "_model_name": "FloatProgressModel",
            "_view_count": null,
            "_view_module": "@jupyter-widgets/controls",
            "_view_module_version": "1.5.0",
            "_view_name": "ProgressView",
            "bar_style": "success",
            "description": "",
            "description_tooltip": null,
            "layout": "IPY_MODEL_6f015a66bc744f0fbf9f561719e9b109",
            "max": 2338,
            "min": 0,
            "orientation": "horizontal",
            "style": "IPY_MODEL_c8fb8041dc3240cb97e156cbcdca3914",
            "value": 2338
          }
        },
        "fec440b4098a4668b7740b35d7d69189": {
          "model_module": "@jupyter-widgets/controls",
          "model_name": "HTMLModel",
          "model_module_version": "1.5.0",
          "state": {
            "_dom_classes": [],
            "_model_module": "@jupyter-widgets/controls",
            "_model_module_version": "1.5.0",
            "_model_name": "HTMLModel",
            "_view_count": null,
            "_view_module": "@jupyter-widgets/controls",
            "_view_module_version": "1.5.0",
            "_view_name": "HTMLView",
            "description": "",
            "description_tooltip": null,
            "layout": "IPY_MODEL_4dcf0ed00012426c9c79433ca328d94d",
            "placeholder": "​",
            "style": "IPY_MODEL_9659f28246624fceb5a6e5158673a0ea",
            "value": " 2338/2338 [01:09&lt;00:00, 38.91it/s]"
          }
        },
        "51833b8529e84e3bb48b8ef5c9e383a1": {
          "model_module": "@jupyter-widgets/base",
          "model_name": "LayoutModel",
          "model_module_version": "1.2.0",
          "state": {
            "_model_module": "@jupyter-widgets/base",
            "_model_module_version": "1.2.0",
            "_model_name": "LayoutModel",
            "_view_count": null,
            "_view_module": "@jupyter-widgets/base",
            "_view_module_version": "1.2.0",
            "_view_name": "LayoutView",
            "align_content": null,
            "align_items": null,
            "align_self": null,
            "border": null,
            "bottom": null,
            "display": null,
            "flex": null,
            "flex_flow": null,
            "grid_area": null,
            "grid_auto_columns": null,
            "grid_auto_flow": null,
            "grid_auto_rows": null,
            "grid_column": null,
            "grid_gap": null,
            "grid_row": null,
            "grid_template_areas": null,
            "grid_template_columns": null,
            "grid_template_rows": null,
            "height": null,
            "justify_content": null,
            "justify_items": null,
            "left": null,
            "margin": null,
            "max_height": null,
            "max_width": null,
            "min_height": null,
            "min_width": null,
            "object_fit": null,
            "object_position": null,
            "order": null,
            "overflow": null,
            "overflow_x": null,
            "overflow_y": null,
            "padding": null,
            "right": null,
            "top": null,
            "visibility": null,
            "width": null
          }
        },
        "d6a6f718256e40f88e0642f3e7fa8c40": {
          "model_module": "@jupyter-widgets/base",
          "model_name": "LayoutModel",
          "model_module_version": "1.2.0",
          "state": {
            "_model_module": "@jupyter-widgets/base",
            "_model_module_version": "1.2.0",
            "_model_name": "LayoutModel",
            "_view_count": null,
            "_view_module": "@jupyter-widgets/base",
            "_view_module_version": "1.2.0",
            "_view_name": "LayoutView",
            "align_content": null,
            "align_items": null,
            "align_self": null,
            "border": null,
            "bottom": null,
            "display": null,
            "flex": null,
            "flex_flow": null,
            "grid_area": null,
            "grid_auto_columns": null,
            "grid_auto_flow": null,
            "grid_auto_rows": null,
            "grid_column": null,
            "grid_gap": null,
            "grid_row": null,
            "grid_template_areas": null,
            "grid_template_columns": null,
            "grid_template_rows": null,
            "height": null,
            "justify_content": null,
            "justify_items": null,
            "left": null,
            "margin": null,
            "max_height": null,
            "max_width": null,
            "min_height": null,
            "min_width": null,
            "object_fit": null,
            "object_position": null,
            "order": null,
            "overflow": null,
            "overflow_x": null,
            "overflow_y": null,
            "padding": null,
            "right": null,
            "top": null,
            "visibility": null,
            "width": null
          }
        },
        "26f2f3dafc384e8e991d8ede1cecb35e": {
          "model_module": "@jupyter-widgets/controls",
          "model_name": "DescriptionStyleModel",
          "model_module_version": "1.5.0",
          "state": {
            "_model_module": "@jupyter-widgets/controls",
            "_model_module_version": "1.5.0",
            "_model_name": "DescriptionStyleModel",
            "_view_count": null,
            "_view_module": "@jupyter-widgets/base",
            "_view_module_version": "1.2.0",
            "_view_name": "StyleView",
            "description_width": ""
          }
        },
        "6f015a66bc744f0fbf9f561719e9b109": {
          "model_module": "@jupyter-widgets/base",
          "model_name": "LayoutModel",
          "model_module_version": "1.2.0",
          "state": {
            "_model_module": "@jupyter-widgets/base",
            "_model_module_version": "1.2.0",
            "_model_name": "LayoutModel",
            "_view_count": null,
            "_view_module": "@jupyter-widgets/base",
            "_view_module_version": "1.2.0",
            "_view_name": "LayoutView",
            "align_content": null,
            "align_items": null,
            "align_self": null,
            "border": null,
            "bottom": null,
            "display": null,
            "flex": null,
            "flex_flow": null,
            "grid_area": null,
            "grid_auto_columns": null,
            "grid_auto_flow": null,
            "grid_auto_rows": null,
            "grid_column": null,
            "grid_gap": null,
            "grid_row": null,
            "grid_template_areas": null,
            "grid_template_columns": null,
            "grid_template_rows": null,
            "height": null,
            "justify_content": null,
            "justify_items": null,
            "left": null,
            "margin": null,
            "max_height": null,
            "max_width": null,
            "min_height": null,
            "min_width": null,
            "object_fit": null,
            "object_position": null,
            "order": null,
            "overflow": null,
            "overflow_x": null,
            "overflow_y": null,
            "padding": null,
            "right": null,
            "top": null,
            "visibility": null,
            "width": null
          }
        },
        "c8fb8041dc3240cb97e156cbcdca3914": {
          "model_module": "@jupyter-widgets/controls",
          "model_name": "ProgressStyleModel",
          "model_module_version": "1.5.0",
          "state": {
            "_model_module": "@jupyter-widgets/controls",
            "_model_module_version": "1.5.0",
            "_model_name": "ProgressStyleModel",
            "_view_count": null,
            "_view_module": "@jupyter-widgets/base",
            "_view_module_version": "1.2.0",
            "_view_name": "StyleView",
            "bar_color": null,
            "description_width": ""
          }
        },
        "4dcf0ed00012426c9c79433ca328d94d": {
          "model_module": "@jupyter-widgets/base",
          "model_name": "LayoutModel",
          "model_module_version": "1.2.0",
          "state": {
            "_model_module": "@jupyter-widgets/base",
            "_model_module_version": "1.2.0",
            "_model_name": "LayoutModel",
            "_view_count": null,
            "_view_module": "@jupyter-widgets/base",
            "_view_module_version": "1.2.0",
            "_view_name": "LayoutView",
            "align_content": null,
            "align_items": null,
            "align_self": null,
            "border": null,
            "bottom": null,
            "display": null,
            "flex": null,
            "flex_flow": null,
            "grid_area": null,
            "grid_auto_columns": null,
            "grid_auto_flow": null,
            "grid_auto_rows": null,
            "grid_column": null,
            "grid_gap": null,
            "grid_row": null,
            "grid_template_areas": null,
            "grid_template_columns": null,
            "grid_template_rows": null,
            "height": null,
            "justify_content": null,
            "justify_items": null,
            "left": null,
            "margin": null,
            "max_height": null,
            "max_width": null,
            "min_height": null,
            "min_width": null,
            "object_fit": null,
            "object_position": null,
            "order": null,
            "overflow": null,
            "overflow_x": null,
            "overflow_y": null,
            "padding": null,
            "right": null,
            "top": null,
            "visibility": null,
            "width": null
          }
        },
        "9659f28246624fceb5a6e5158673a0ea": {
          "model_module": "@jupyter-widgets/controls",
          "model_name": "DescriptionStyleModel",
          "model_module_version": "1.5.0",
          "state": {
            "_model_module": "@jupyter-widgets/controls",
            "_model_module_version": "1.5.0",
            "_model_name": "DescriptionStyleModel",
            "_view_count": null,
            "_view_module": "@jupyter-widgets/base",
            "_view_module_version": "1.2.0",
            "_view_name": "StyleView",
            "description_width": ""
          }
        }
      }
    }
  },
  "cells": [
    {
      "cell_type": "markdown",
      "metadata": {
        "id": "view-in-github",
        "colab_type": "text"
      },
      "source": [
        "<a href=\"https://colab.research.google.com/github/daniellmarc/reweighted-dns/blob/main/Bilby_neutron_star_example.ipynb\" target=\"_parent\"><img src=\"https://colab.research.google.com/assets/colab-badge.svg\" alt=\"Open In Colab\"/></a>"
      ]
    },
    {
      "cell_type": "code",
      "source": [
        "! python3 -m pip install bilby\n",
        "! python3 -m pip install lalsuite\n",
        "! python3 -m pip install nestle"
      ],
      "metadata": {
        "colab": {
          "base_uri": "https://localhost:8080/"
        },
        "id": "edgXiUF0ZsGs",
        "outputId": "b502928a-f1a0-43d5-9d37-e8d2df6b07f0"
      },
      "execution_count": 22,
      "outputs": [
        {
          "output_type": "stream",
          "name": "stdout",
          "text": [
            "Looking in indexes: https://pypi.org/simple, https://us-python.pkg.dev/colab-wheels/public/simple/\n",
            "Requirement already satisfied: bilby in /usr/local/lib/python3.7/dist-packages (1.1.5)\n",
            "Requirement already satisfied: tables in /usr/local/lib/python3.7/dist-packages (from bilby) (3.7.0)\n",
            "Requirement already satisfied: dill in /usr/local/lib/python3.7/dist-packages (from bilby) (0.3.5.1)\n",
            "Requirement already satisfied: attrs in /usr/local/lib/python3.7/dist-packages (from bilby) (22.1.0)\n",
            "Requirement already satisfied: corner in /usr/local/lib/python3.7/dist-packages (from bilby) (2.2.1)\n",
            "Requirement already satisfied: pandas in /usr/local/lib/python3.7/dist-packages (from bilby) (1.3.5)\n",
            "Requirement already satisfied: tqdm in /usr/local/lib/python3.7/dist-packages (from bilby) (4.64.1)\n",
            "Requirement already satisfied: mock in /usr/local/lib/python3.7/dist-packages (from bilby) (4.0.3)\n",
            "Requirement already satisfied: matplotlib>=2.1 in /usr/local/lib/python3.7/dist-packages (from bilby) (3.2.2)\n",
            "Requirement already satisfied: scipy>=1.5 in /usr/local/lib/python3.7/dist-packages (from bilby) (1.7.3)\n",
            "Requirement already satisfied: h5py in /usr/local/lib/python3.7/dist-packages (from bilby) (3.1.0)\n",
            "Requirement already satisfied: astropy in /usr/local/lib/python3.7/dist-packages (from bilby) (4.3.1)\n",
            "Requirement already satisfied: dynesty<1.1 in /usr/local/lib/python3.7/dist-packages (from bilby) (1.0.1)\n",
            "Requirement already satisfied: numpy in /usr/local/lib/python3.7/dist-packages (from bilby) (1.21.6)\n",
            "Requirement already satisfied: emcee in /usr/local/lib/python3.7/dist-packages (from bilby) (3.1.2)\n",
            "Requirement already satisfied: six in /usr/local/lib/python3.7/dist-packages (from dynesty<1.1->bilby) (1.15.0)\n",
            "Requirement already satisfied: kiwisolver>=1.0.1 in /usr/local/lib/python3.7/dist-packages (from matplotlib>=2.1->bilby) (1.4.4)\n",
            "Requirement already satisfied: cycler>=0.10 in /usr/local/lib/python3.7/dist-packages (from matplotlib>=2.1->bilby) (0.11.0)\n",
            "Requirement already satisfied: pyparsing!=2.0.4,!=2.1.2,!=2.1.6,>=2.0.1 in /usr/local/lib/python3.7/dist-packages (from matplotlib>=2.1->bilby) (3.0.9)\n",
            "Requirement already satisfied: python-dateutil>=2.1 in /usr/local/lib/python3.7/dist-packages (from matplotlib>=2.1->bilby) (2.8.2)\n",
            "Requirement already satisfied: typing-extensions in /usr/local/lib/python3.7/dist-packages (from kiwisolver>=1.0.1->matplotlib>=2.1->bilby) (4.1.1)\n",
            "Requirement already satisfied: importlib-metadata in /usr/local/lib/python3.7/dist-packages (from astropy->bilby) (4.12.0)\n",
            "Requirement already satisfied: pyerfa>=1.7.3 in /usr/local/lib/python3.7/dist-packages (from astropy->bilby) (2.0.0.1)\n",
            "Requirement already satisfied: cached-property in /usr/local/lib/python3.7/dist-packages (from h5py->bilby) (1.5.2)\n",
            "Requirement already satisfied: zipp>=0.5 in /usr/local/lib/python3.7/dist-packages (from importlib-metadata->astropy->bilby) (3.8.1)\n",
            "Requirement already satisfied: pytz>=2017.3 in /usr/local/lib/python3.7/dist-packages (from pandas->bilby) (2022.2.1)\n",
            "Requirement already satisfied: numexpr>=2.6.2 in /usr/local/lib/python3.7/dist-packages (from tables->bilby) (2.8.3)\n",
            "Requirement already satisfied: packaging in /usr/local/lib/python3.7/dist-packages (from tables->bilby) (21.3)\n",
            "Looking in indexes: https://pypi.org/simple, https://us-python.pkg.dev/colab-wheels/public/simple/\n",
            "Collecting lalsuite\n",
            "  Downloading lalsuite-7.5-cp37-cp37m-manylinux_2_17_x86_64.manylinux2014_x86_64.whl (48.3 MB)\n",
            "\u001b[K     |████████████████████████████████| 48.3 MB 1.9 MB/s \n",
            "\u001b[?25hRequirement already satisfied: python-dateutil in /usr/local/lib/python3.7/dist-packages (from lalsuite) (2.8.2)\n",
            "Requirement already satisfied: matplotlib in /usr/local/lib/python3.7/dist-packages (from lalsuite) (3.2.2)\n",
            "Requirement already satisfied: scipy in /usr/local/lib/python3.7/dist-packages (from lalsuite) (1.7.3)\n",
            "Requirement already satisfied: numpy>=1.7 in /usr/local/lib/python3.7/dist-packages (from lalsuite) (1.21.6)\n",
            "Collecting ligo-segments\n",
            "  Downloading ligo-segments-1.4.0.tar.gz (51 kB)\n",
            "\u001b[K     |████████████████████████████████| 51 kB 8.0 MB/s \n",
            "\u001b[?25hCollecting lscsoft-glue\n",
            "  Downloading lscsoft-glue-3.0.1.tar.gz (1.4 MB)\n",
            "\u001b[K     |████████████████████████████████| 1.4 MB 42.6 MB/s \n",
            "\u001b[?25h  Installing build dependencies ... \u001b[?25l\u001b[?25hdone\n",
            "  Getting requirements to build wheel ... \u001b[?25l\u001b[?25hdone\n",
            "    Preparing wheel metadata ... \u001b[?25l\u001b[?25hdone\n",
            "Requirement already satisfied: six in /usr/local/lib/python3.7/dist-packages (from ligo-segments->lalsuite) (1.15.0)\n",
            "Collecting pyOpenSSL\n",
            "  Downloading pyOpenSSL-22.0.0-py2.py3-none-any.whl (55 kB)\n",
            "\u001b[K     |████████████████████████████████| 55 kB 3.7 MB/s \n",
            "\u001b[?25hCollecting pyRXP\n",
            "  Downloading pyRXP-3.0.1-cp37-cp37m-manylinux_2_12_x86_64.manylinux2010_x86_64.whl (295 kB)\n",
            "\u001b[K     |████████████████████████████████| 295 kB 54.8 MB/s \n",
            "\u001b[?25hRequirement already satisfied: cycler>=0.10 in /usr/local/lib/python3.7/dist-packages (from matplotlib->lalsuite) (0.11.0)\n",
            "Requirement already satisfied: pyparsing!=2.0.4,!=2.1.2,!=2.1.6,>=2.0.1 in /usr/local/lib/python3.7/dist-packages (from matplotlib->lalsuite) (3.0.9)\n",
            "Requirement already satisfied: kiwisolver>=1.0.1 in /usr/local/lib/python3.7/dist-packages (from matplotlib->lalsuite) (1.4.4)\n",
            "Requirement already satisfied: typing-extensions in /usr/local/lib/python3.7/dist-packages (from kiwisolver>=1.0.1->matplotlib->lalsuite) (4.1.1)\n",
            "Collecting cryptography>=35.0\n",
            "  Downloading cryptography-38.0.1-cp36-abi3-manylinux_2_24_x86_64.whl (4.0 MB)\n",
            "\u001b[K     |████████████████████████████████| 4.0 MB 25.9 MB/s \n",
            "\u001b[?25hRequirement already satisfied: cffi>=1.12 in /usr/local/lib/python3.7/dist-packages (from cryptography>=35.0->pyOpenSSL->lscsoft-glue->lalsuite) (1.15.1)\n",
            "Requirement already satisfied: pycparser in /usr/local/lib/python3.7/dist-packages (from cffi>=1.12->cryptography>=35.0->pyOpenSSL->lscsoft-glue->lalsuite) (2.21)\n",
            "Building wheels for collected packages: ligo-segments, lscsoft-glue\n",
            "  Building wheel for ligo-segments (setup.py) ... \u001b[?25l\u001b[?25hdone\n",
            "  Created wheel for ligo-segments: filename=ligo_segments-1.4.0-cp37-cp37m-linux_x86_64.whl size=86646 sha256=1f421aa7dc7a6cd14dcaaf043f730542514f67dc594c679d4f091798d91ea796\n",
            "  Stored in directory: /root/.cache/pip/wheels/09/f9/d4/129b3bb4458d50b56fdc8245ace7c8216d54865fe8d3aebc05\n",
            "  Building wheel for lscsoft-glue (PEP 517) ... \u001b[?25l\u001b[?25hdone\n",
            "  Created wheel for lscsoft-glue: filename=lscsoft_glue-3.0.1-cp37-cp37m-linux_x86_64.whl size=258433 sha256=1496fbdec6a70a28b163eb017c2a6685baebd088ab9efe21a1b9be8e77d75ea2\n",
            "  Stored in directory: /root/.cache/pip/wheels/62/ad/9a/6e89ceed9887a50c3c227beea125ad58f50b3622fbaf0873bf\n",
            "Successfully built ligo-segments lscsoft-glue\n",
            "Installing collected packages: cryptography, pyRXP, pyOpenSSL, ligo-segments, lscsoft-glue, lalsuite\n",
            "Successfully installed cryptography-38.0.1 lalsuite-7.5 ligo-segments-1.4.0 lscsoft-glue-3.0.1 pyOpenSSL-22.0.0 pyRXP-3.0.1\n",
            "Looking in indexes: https://pypi.org/simple, https://us-python.pkg.dev/colab-wheels/public/simple/\n",
            "Collecting nestle\n",
            "  Downloading nestle-0.2.0.tar.gz (12 kB)\n",
            "Building wheels for collected packages: nestle\n",
            "  Building wheel for nestle (setup.py) ... \u001b[?25l\u001b[?25hdone\n",
            "  Created wheel for nestle: filename=nestle-0.2.0-py3-none-any.whl size=12457 sha256=430b21e8c9efde76d60a56aecc46d825e04a86723067d69aaf548d26fb1e9940\n",
            "  Stored in directory: /root/.cache/pip/wheels/12/96/d9/fb8f0e7ed8164becad7d76d8a94909497a984d2bebe9efec74\n",
            "Successfully built nestle\n",
            "Installing collected packages: nestle\n",
            "Successfully installed nestle-0.2.0\n"
          ]
        }
      ]
    },
    {
      "cell_type": "code",
      "execution_count": 23,
      "metadata": {
        "id": "FeSCSxSR_kud"
      },
      "outputs": [],
      "source": [
        "#!/usr/bin/env python\n",
        "\"\"\"\n",
        "Tutorial to demonstrate running parameter estimation on a binary neutron star\n",
        "system taking into account tidal deformabilities.\n",
        "\n",
        "This example estimates the masses using a uniform prior in both component masses\n",
        "and also estimates the tidal deformabilities using a uniform prior in both\n",
        "tidal deformabilities\n",
        "\"\"\"\n",
        "\n",
        "\n",
        "import bilby\n",
        "import numpy as np\n"
      ]
    },
    {
      "cell_type": "code",
      "source": [
        "\n",
        "# Specify the output directory and the name of the simulation.\n",
        "outdir = \"outdir\"\n",
        "label = \"bns_example\"\n",
        "bilby.core.utils.setup_logger(outdir=outdir, label=label)\n",
        "\n"
      ],
      "metadata": {
        "id": "HBPs6tPwZZpp"
      },
      "execution_count": 24,
      "outputs": []
    },
    {
      "cell_type": "code",
      "source": [
        "# Set up a random seed for result reproducibility.  This is optional!\n",
        "np.random.seed(88170235)\n"
      ],
      "metadata": {
        "id": "tM9ypaHOZb_y"
      },
      "execution_count": 25,
      "outputs": []
    },
    {
      "cell_type": "code",
      "source": [
        "# We are going to inject a binary neutron star waveform.  We first establish a\n",
        "# dictionary of parameters that includes all of the different waveform\n",
        "# parameters, including masses of the two black holes (mass_1, mass_2),\n",
        "# aligned spins of both black holes (chi_1, chi_2), etc.\n",
        "injection_parameters = dict(\n",
        "    mass_1=1.5,\n",
        "    mass_2=1.3,\n",
        "    chi_1=0.02,\n",
        "    chi_2=0.02,\n",
        "    luminosity_distance=50.0,\n",
        "    theta_jn=0.4,\n",
        "    psi=2.659,\n",
        "    phase=1.3,\n",
        "    geocent_time=1126259642.413,\n",
        "    ra=1.375,\n",
        "    dec=-1.2108,\n",
        "    lambda_1=400,\n",
        "    lambda_2=450,\n",
        ")\n"
      ],
      "metadata": {
        "id": "I0sZKH5TZdfR"
      },
      "execution_count": 26,
      "outputs": []
    },
    {
      "cell_type": "code",
      "source": [
        "\n",
        "# Set the duration and sampling frequency of the data segment that we're going\n",
        "# to inject the signal into. For the\n",
        "# TaylorF2 waveform, we cut the signal close to the isco frequency\n",
        "duration = 32\n",
        "sampling_frequency = 2048\n",
        "start_time = injection_parameters[\"geocent_time\"] + 2 - duration\n",
        "\n"
      ],
      "metadata": {
        "id": "xJpyY-NhZevP"
      },
      "execution_count": 27,
      "outputs": []
    },
    {
      "cell_type": "code",
      "source": [
        "# Fixed arguments passed into the source model. The analysis starts at 40 Hz.\n",
        "waveform_arguments = dict(\n",
        "    waveform_approximant=\"IMRPhenomPv2_NRTidal\",\n",
        "    reference_frequency=50.0,\n",
        "    minimum_frequency=40.0,\n",
        ")\n"
      ],
      "metadata": {
        "id": "npXbNwsZZgbw"
      },
      "execution_count": 28,
      "outputs": []
    },
    {
      "cell_type": "code",
      "source": [
        "# Create the waveform_generator using a LAL Binary Neutron Star source function\n",
        "waveform_generator = bilby.gw.WaveformGenerator(\n",
        "    duration=duration,\n",
        "    sampling_frequency=sampling_frequency,\n",
        "    frequency_domain_source_model=bilby.gw.source.lal_binary_neutron_star,\n",
        "    parameter_conversion=bilby.gw.conversion.convert_to_lal_binary_neutron_star_parameters,\n",
        "    waveform_arguments=waveform_arguments,\n",
        ")\n"
      ],
      "metadata": {
        "colab": {
          "base_uri": "https://localhost:8080/"
        },
        "id": "nMxylrgxZhy1",
        "outputId": "4638ad4f-5f65-4e54-b222-ac8b92e258d2"
      },
      "execution_count": 29,
      "outputs": [
        {
          "output_type": "stream",
          "name": "stderr",
          "text": [
            "20:19 bilby INFO    : Waveform generator initiated with\n",
            "  frequency_domain_source_model: bilby.gw.source.lal_binary_neutron_star\n",
            "  time_domain_source_model: None\n",
            "  parameter_conversion: bilby.gw.conversion.convert_to_lal_binary_neutron_star_parameters\n"
          ]
        }
      ]
    },
    {
      "cell_type": "code",
      "source": [
        "# Set up interferometers.  In this case we'll use three interferometers\n",
        "# (LIGO-Hanford (H1), LIGO-Livingston (L1), and Virgo (V1)).\n",
        "# These default to their design sensitivity and start at 40 Hz.\n",
        "interferometers = bilby.gw.detector.InterferometerList([\"H1\", \"L1\", \"V1\"])\n",
        "for interferometer in interferometers:\n",
        "    interferometer.minimum_frequency = 40\n",
        "interferometers.set_strain_data_from_power_spectral_densities(\n",
        "    sampling_frequency=sampling_frequency, duration=duration, start_time=start_time\n",
        ")\n",
        "interferometers.inject_signal(\n",
        "    parameters=injection_parameters, waveform_generator=waveform_generator\n",
        ")\n"
      ],
      "metadata": {
        "colab": {
          "base_uri": "https://localhost:8080/"
        },
        "id": "TJng4Iv5Zi_c",
        "outputId": "dc073ab3-5b9c-418c-b86b-524e7c4554ea"
      },
      "execution_count": 30,
      "outputs": [
        {
          "output_type": "stream",
          "name": "stderr",
          "text": [
            "20:19 bilby INFO    : Injected signal in H1:\n",
            "20:19 bilby INFO    :   optimal SNR = 34.44\n",
            "20:19 bilby INFO    :   matched filter SNR = 35.22-0.58j\n",
            "20:19 bilby INFO    :   mass_1 = 1.5\n",
            "20:19 bilby INFO    :   mass_2 = 1.3\n",
            "20:19 bilby INFO    :   chi_1 = 0.02\n",
            "20:19 bilby INFO    :   chi_2 = 0.02\n",
            "20:19 bilby INFO    :   luminosity_distance = 50.0\n",
            "20:19 bilby INFO    :   theta_jn = 0.4\n",
            "20:19 bilby INFO    :   psi = 2.659\n",
            "20:19 bilby INFO    :   phase = 1.3\n",
            "20:19 bilby INFO    :   geocent_time = 1126259642.413\n",
            "20:19 bilby INFO    :   ra = 1.375\n",
            "20:19 bilby INFO    :   dec = -1.2108\n",
            "20:19 bilby INFO    :   lambda_1 = 400\n",
            "20:19 bilby INFO    :   lambda_2 = 450\n",
            "20:19 bilby INFO    : Injected signal in L1:\n",
            "20:19 bilby INFO    :   optimal SNR = 27.88\n",
            "20:19 bilby INFO    :   matched filter SNR = 28.28+0.76j\n",
            "20:19 bilby INFO    :   mass_1 = 1.5\n",
            "20:19 bilby INFO    :   mass_2 = 1.3\n",
            "20:19 bilby INFO    :   chi_1 = 0.02\n",
            "20:19 bilby INFO    :   chi_2 = 0.02\n",
            "20:19 bilby INFO    :   luminosity_distance = 50.0\n",
            "20:19 bilby INFO    :   theta_jn = 0.4\n",
            "20:19 bilby INFO    :   psi = 2.659\n",
            "20:19 bilby INFO    :   phase = 1.3\n",
            "20:19 bilby INFO    :   geocent_time = 1126259642.413\n",
            "20:19 bilby INFO    :   ra = 1.375\n",
            "20:19 bilby INFO    :   dec = -1.2108\n",
            "20:19 bilby INFO    :   lambda_1 = 400\n",
            "20:19 bilby INFO    :   lambda_2 = 450\n",
            "20:19 bilby INFO    : Injected signal in V1:\n",
            "20:19 bilby INFO    :   optimal SNR = 29.56\n",
            "20:19 bilby INFO    :   matched filter SNR = 29.94+0.51j\n",
            "20:19 bilby INFO    :   mass_1 = 1.5\n",
            "20:19 bilby INFO    :   mass_2 = 1.3\n",
            "20:19 bilby INFO    :   chi_1 = 0.02\n",
            "20:19 bilby INFO    :   chi_2 = 0.02\n",
            "20:19 bilby INFO    :   luminosity_distance = 50.0\n",
            "20:19 bilby INFO    :   theta_jn = 0.4\n",
            "20:19 bilby INFO    :   psi = 2.659\n",
            "20:19 bilby INFO    :   phase = 1.3\n",
            "20:19 bilby INFO    :   geocent_time = 1126259642.413\n",
            "20:19 bilby INFO    :   ra = 1.375\n",
            "20:19 bilby INFO    :   dec = -1.2108\n",
            "20:19 bilby INFO    :   lambda_1 = 400\n",
            "20:19 bilby INFO    :   lambda_2 = 450\n"
          ]
        },
        {
          "output_type": "execute_result",
          "data": {
            "text/plain": [
              "[{'plus': array([ 0.00000000e+00-0.00000000e+00j,  0.00000000e+00-0.00000000e+00j,\n",
              "          0.00000000e+00-0.00000000e+00j, ...,\n",
              "         -4.02066493e-25+1.53786385e-25j, -4.02109206e-25+1.53625167e-25j,\n",
              "          0.00000000e+00-0.00000000e+00j]),\n",
              "  'cross': array([0.00000000e+00+0.00000000e+00j, 0.00000000e+00+0.00000000e+00j,\n",
              "         0.00000000e+00+0.00000000e+00j, ...,\n",
              "         1.53267924e-25+4.00711004e-25j, 1.53107249e-25+4.00753572e-25j,\n",
              "         0.00000000e+00+0.00000000e+00j])},\n",
              " {'plus': array([ 0.00000000e+00-0.00000000e+00j,  0.00000000e+00-0.00000000e+00j,\n",
              "          0.00000000e+00-0.00000000e+00j, ...,\n",
              "         -4.02066493e-25+1.53786385e-25j, -4.02109206e-25+1.53625167e-25j,\n",
              "          0.00000000e+00-0.00000000e+00j]),\n",
              "  'cross': array([0.00000000e+00+0.00000000e+00j, 0.00000000e+00+0.00000000e+00j,\n",
              "         0.00000000e+00+0.00000000e+00j, ...,\n",
              "         1.53267924e-25+4.00711004e-25j, 1.53107249e-25+4.00753572e-25j,\n",
              "         0.00000000e+00+0.00000000e+00j])},\n",
              " {'plus': array([ 0.00000000e+00-0.00000000e+00j,  0.00000000e+00-0.00000000e+00j,\n",
              "          0.00000000e+00-0.00000000e+00j, ...,\n",
              "         -4.02066493e-25+1.53786385e-25j, -4.02109206e-25+1.53625167e-25j,\n",
              "          0.00000000e+00-0.00000000e+00j]),\n",
              "  'cross': array([0.00000000e+00+0.00000000e+00j, 0.00000000e+00+0.00000000e+00j,\n",
              "         0.00000000e+00+0.00000000e+00j, ...,\n",
              "         1.53267924e-25+4.00711004e-25j, 1.53107249e-25+4.00753572e-25j,\n",
              "         0.00000000e+00+0.00000000e+00j])}]"
            ]
          },
          "metadata": {},
          "execution_count": 30
        }
      ]
    },
    {
      "cell_type": "code",
      "source": [
        "# Load the default prior for binary neutron stars.\n",
        "# We're going to sample in chirp_mass, symmetric_mass_ratio, lambda_tilde, and\n",
        "# delta_lambda rather than mass_1, mass_2, lambda_1, and lambda_2.\n",
        "# BNS have aligned spins by default, if you want to allow precessing spins\n",
        "# pass aligned_spin=False to the BNSPriorDict\n",
        "priors = bilby.gw.prior.BNSPriorDict()\n",
        "for key in [\n",
        "    \"psi\",\n",
        "    \"geocent_time\",\n",
        "    \"ra\",\n",
        "    \"dec\",\n",
        "    \"chi_1\",\n",
        "    \"chi_2\",\n",
        "    \"theta_jn\",\n",
        "    \"luminosity_distance\",\n",
        "    \"phase\",\n",
        "]:\n",
        "    priors[key] = injection_parameters[key]\n",
        "del priors[\"mass_ratio\"], priors[\"lambda_1\"], priors[\"lambda_2\"]\n",
        "priors[\"chirp_mass\"] = bilby.core.prior.Gaussian(\n",
        "    1.215, 0.1, name=\"chirp_mass\", unit=\"$M_{\\\\odot}$\"\n",
        ")\n",
        "priors[\"symmetric_mass_ratio\"] = bilby.core.prior.Uniform(\n",
        "    0.1, 0.25, name=\"symmetric_mass_ratio\"\n",
        ")\n",
        "priors[\"lambda_tilde\"] = bilby.core.prior.Uniform(0, 5000, name=\"lambda_tilde\")\n",
        "priors[\"delta_lambda\"] = bilby.core.prior.Uniform(-5000, 5000, name=\"delta_lambda\")\n",
        "\n"
      ],
      "metadata": {
        "colab": {
          "base_uri": "https://localhost:8080/"
        },
        "id": "bVE6YngVZkaN",
        "outputId": "46969886-2db3-47b6-ec53-c4b666721fb7"
      },
      "execution_count": 31,
      "outputs": [
        {
          "output_type": "stream",
          "name": "stderr",
          "text": [
            "20:19 bilby INFO    : No prior given, using default BNS priors in /usr/local/lib/python3.7/dist-packages/bilby/gw/prior_files/aligned_spins_bns_tides_on.prior.\n"
          ]
        }
      ]
    },
    {
      "cell_type": "code",
      "source": [
        "# Initialise the likelihood by passing in the interferometer data (IFOs)\n",
        "# and the waveform generator\n",
        "likelihood = bilby.gw.GravitationalWaveTransient(\n",
        "    interferometers=interferometers,\n",
        "    waveform_generator=waveform_generator,\n",
        ")\n",
        "\n"
      ],
      "metadata": {
        "id": "rkoInb14ZmiK"
      },
      "execution_count": 32,
      "outputs": []
    },
    {
      "cell_type": "code",
      "source": [
        "\n",
        "# Run sampler.  In this case we're going to use the `nestle` sampler\n",
        "result = bilby.run_sampler(\n",
        "    likelihood=likelihood,\n",
        "    priors=priors,\n",
        "    sampler=\"nestle\",\n",
        "    npoints=100,\n",
        "    injection_parameters=injection_parameters,\n",
        "    outdir=outdir,\n",
        "    label=label,\n",
        "    conversion_function=bilby.gw.conversion.generate_all_bns_parameters,\n",
        ")\n",
        "\n",
        "result.plot_corner()\n"
      ],
      "metadata": {
        "colab": {
          "base_uri": "https://localhost:8080/",
          "height": 1000,
          "referenced_widgets": [
            "d522afb6bb3444b885938f78bda06948",
            "5d214fcac83e4e5caf47becc1d8953ea",
            "16f5848ce6d04dba8427bacc25509b85",
            "0d75e3ddf3c941a0b6badc662d00d2c7",
            "45d1259d7dba4533ab7e32672ef03199",
            "faa8d99290d84e03af152d665891ba55",
            "dd276b42cf2549ba89b2fa066a7e5e5f",
            "d463defae01045fc8a7c85f8785a1f14",
            "4358947fefe84d65bcff6ab096c48a4c",
            "92e71551e50a466bb977ab526e9554a9",
            "c72829ddeb3a4d05bf300314b1db7519",
            "80ea520854414926a52bff37f739ab75",
            "375f6ecff1574b6496efbec9c03e6595",
            "0fa2f7d3a298489caa100348c86aa4d4",
            "fec440b4098a4668b7740b35d7d69189",
            "51833b8529e84e3bb48b8ef5c9e383a1",
            "d6a6f718256e40f88e0642f3e7fa8c40",
            "26f2f3dafc384e8e991d8ede1cecb35e",
            "6f015a66bc744f0fbf9f561719e9b109",
            "c8fb8041dc3240cb97e156cbcdca3914",
            "4dcf0ed00012426c9c79433ca328d94d",
            "9659f28246624fceb5a6e5158673a0ea"
          ]
        },
        "id": "NwhSYjAeZoga",
        "outputId": "3a5b846b-8356-474c-dc66-e2ef1082a30b"
      },
      "execution_count": 33,
      "outputs": [
        {
          "output_type": "stream",
          "name": "stderr",
          "text": [
            "20:19 bilby INFO    : Running for label 'bns_example', output will be saved to 'outdir'\n",
            "20:19 bilby INFO    : Performing redundancy check using BBHPriorDict(self).test_redundancy\n",
            "20:19 bilby INFO    : Performing redundancy check using BBHPriorDict(self).test_redundancy\n",
            "20:19 bilby INFO    : Performing redundancy check using BBHPriorDict(self).test_redundancy\n",
            "20:19 bilby INFO    : Performing redundancy check using BBHPriorDict(self).test_redundancy\n",
            "20:19 bilby INFO    : Performing redundancy check using BBHPriorDict(self).test_redundancy\n",
            "20:19 bilby INFO    : Performing redundancy check using BBHPriorDict(self).test_redundancy\n",
            "20:19 bilby INFO    : Performing redundancy check using BBHPriorDict(self).test_redundancy\n",
            "20:19 bilby INFO    : Performing redundancy check using BBHPriorDict(self).test_redundancy\n",
            "20:19 bilby INFO    : Performing redundancy check using BBHPriorDict(self).test_redundancy\n",
            "20:19 bilby INFO    : Performing redundancy check using BBHPriorDict(self).test_redundancy\n",
            "20:19 bilby INFO    : Performing redundancy check using BBHPriorDict(self).test_redundancy\n",
            "20:19 bilby INFO    : Performing redundancy check using BBHPriorDict(self).test_redundancy\n",
            "20:19 bilby INFO    : Performing redundancy check using BBHPriorDict(self).test_redundancy\n",
            "20:19 bilby INFO    : Performing redundancy check using BBHPriorDict(self).test_redundancy\n",
            "20:19 bilby INFO    : Performing redundancy check using BBHPriorDict(self).test_redundancy\n",
            "20:19 bilby INFO    : Using lal version 7.1.7\n",
            "20:19 bilby INFO    : Using lal git version Branch: None;Tag: lalsuite-v7.5;Id: bd2ad8ca448e9761e3010e519a656789332ea28a;;Builder: Unknown User <>;Repository status: UNCLEAN: Modified working tree\n",
            "20:19 bilby INFO    : Using lalsimulation version 3.1.2\n",
            "20:19 bilby INFO    : Using lalsimulation git version Branch: None;Tag: lalsuite-v7.5;Id: bd2ad8ca448e9761e3010e519a656789332ea28a;;Builder: Unknown User <>;Repository status: UNCLEAN: Modified working tree\n",
            "20:19 bilby INFO    : Search parameters:\n",
            "20:19 bilby INFO    :   chirp_mass = Gaussian(mu=1.215, sigma=0.1, name='chirp_mass', latex_label='$\\\\mathcal{M}$', unit='$M_{\\\\odot}$', boundary=None)\n",
            "20:19 bilby INFO    :   symmetric_mass_ratio = Uniform(minimum=0.1, maximum=0.25, name='symmetric_mass_ratio', latex_label='$\\\\eta$', unit=None, boundary=None)\n",
            "20:19 bilby INFO    :   lambda_tilde = Uniform(minimum=0, maximum=5000, name='lambda_tilde', latex_label='$\\\\tilde{\\\\Lambda}$', unit=None, boundary=None)\n",
            "20:19 bilby INFO    :   delta_lambda = Uniform(minimum=-5000, maximum=5000, name='delta_lambda', latex_label='delta_lambda', unit=None, boundary=None)\n",
            "20:19 bilby INFO    :   mass_1 = Constraint(minimum=0.5, maximum=5, name='mass_1', latex_label='$m_1$', unit=None)\n",
            "20:19 bilby INFO    :   mass_2 = Constraint(minimum=0.5, maximum=5, name='mass_2', latex_label='$m_2$', unit=None)\n",
            "20:19 bilby INFO    :   luminosity_distance = 50.0\n",
            "20:19 bilby INFO    :   dec = -1.2108\n",
            "20:19 bilby INFO    :   ra = 1.375\n",
            "20:19 bilby INFO    :   theta_jn = 0.4\n",
            "20:19 bilby INFO    :   psi = 2.659\n",
            "20:19 bilby INFO    :   phase = 1.3\n",
            "20:19 bilby INFO    :   chi_1 = 0.02\n",
            "20:19 bilby INFO    :   chi_2 = 0.02\n",
            "20:19 bilby INFO    :   geocent_time = 1126259642.413\n",
            "20:19 bilby INFO    : Single likelihood evaluation took 1.068e-01 s\n",
            "20:19 bilby WARNING : Supplied argument 'npool' not an argument of 'Nestle', removing.\n",
            "20:19 bilby INFO    : Using sampler Nestle with kwargs {'method': 'multi', 'npoints': 100, 'update_interval': None, 'npdim': None, 'maxiter': None, 'maxcall': None, 'dlogz': None, 'decline_factor': None, 'rstate': None, 'callback': <function print_progress at 0x7f669f075cb0>, 'steps': 20, 'enlarge': 1.2}\n"
          ]
        },
        {
          "output_type": "stream",
          "name": "stdout",
          "text": [
            "\u001b[Kit=  2237 logz=1450.571967\n"
          ]
        },
        {
          "output_type": "stream",
          "name": "stderr",
          "text": [
            "21:08 bilby INFO    : Sampling time: 0:48:09.125230\n",
            "21:08 bilby INFO    : Generating sky frame parameters.\n"
          ]
        },
        {
          "output_type": "display_data",
          "data": {
            "text/plain": [
              "  0%|          | 0/2338 [00:00<?, ?it/s]"
            ],
            "application/vnd.jupyter.widget-view+json": {
              "version_major": 2,
              "version_minor": 0,
              "model_id": "d522afb6bb3444b885938f78bda06948"
            }
          },
          "metadata": {}
        },
        {
          "output_type": "stream",
          "name": "stderr",
          "text": [
            "21:08 bilby INFO    : Computing SNRs for every sample.\n"
          ]
        },
        {
          "output_type": "display_data",
          "data": {
            "text/plain": [
              "  0%|          | 0/2338 [00:00<?, ?it/s]"
            ],
            "application/vnd.jupyter.widget-view+json": {
              "version_major": 2,
              "version_minor": 0,
              "model_id": "80ea520854414926a52bff37f739ab75"
            }
          },
          "metadata": {}
        },
        {
          "output_type": "stream",
          "name": "stderr",
          "text": [
            "21:09 bilby INFO    : Summary of results:\n",
            "nsamples: 2338\n",
            "ln_noise_evidence: -95838.299\n",
            "ln_evidence: -94387.357 +/-  0.448\n",
            "ln_bayes_factor: 1450.942 +/-  0.448\n",
            "\n"
          ]
        },
        {
          "output_type": "execute_result",
          "data": {
            "text/plain": [
              "<Figure size 698.4x698.4 with 16 Axes>"
            ],
            "image/png": "[encoded data removed]"
          },
          "metadata": {},
          "execution_count": 33
        }
      ]
    },
    {
      "cell_type": "code",
      "source": [],
      "metadata": {
        "id": "aUQRXa2SZqIq"
      },
      "execution_count": 33,
      "outputs": []
    }
  ]
}