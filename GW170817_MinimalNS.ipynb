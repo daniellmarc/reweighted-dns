{
  "cells": [
    {
      "cell_type": "markdown",
      "metadata": {
        "id": "SFYeC908fqHg"
      },
      "source": [
        "GW170817_MinimalNS.ipynb -- reweight GW170817 posterior to minimal NS population"
      ]
    },
    {
      "cell_type": "code",
      "execution_count": 1,
      "metadata": {
        "id": "lRrb-CBXfpX_"
      },
      "outputs": [],
      "source": [
        "# import packages\n",
        "\n",
        "import pandas as pd\n",
        "import numpy as np\n",
        "import scipy\n",
        "import seaborn as sns\n",
        "import matplotlib.pyplot as plt\n",
        "import matplotlib.lines as mlines\n",
        "import matplotlib.patches as mpatches\n",
        "import h5py\n",
        "import requests as rq\n",
        "import random\n",
        "random.seed(2022)"
      ]
    },
    {
      "cell_type": "code",
      "execution_count": 2,
      "metadata": {
        "colab": {
          "base_uri": "https://localhost:8080/"
        },
        "id": "mveDybzkftu5",
        "outputId": "6fb81995-ff37-4c30-ddfc-05fe929743d5"
      },
      "outputs": [
        {
          "output_type": "stream",
          "name": "stdout",
          "text": [
            "Cloning into 'sodapop'...\n",
            "remote: Enumerating objects: 759, done.\u001b[K\n",
            "remote: Counting objects: 100% (76/76), done.\u001b[K\n",
            "remote: Compressing objects: 100% (42/42), done.\u001b[K\n",
            "remote: Total 759 (delta 52), reused 48 (delta 34), pack-reused 683\u001b[K\n",
            "Receiving objects: 100% (759/759), 2.76 MiB | 7.61 MiB/s, done.\n",
            "Resolving deltas: 100% (414/414), done.\n"
          ]
        }
      ],
      "source": [
        "# import sodapop\n",
        "\n",
        "! git clone https://github.com/landryp/sodapop.git # only need to run this once\n",
        "import sys\n",
        "import os\n",
        "sys.path.insert(0,os.getcwd()+'/sodapop')\n",
        "import sodapop.priors as prior\n",
        "import sodapop.populations as pop"
      ]
    },
    {
      "cell_type": "code",
      "execution_count": 3,
      "metadata": {
        "colab": {
          "base_uri": "https://localhost:8080/"
        },
        "id": "CR3PmmhtfvW2",
        "outputId": "597afee6-9ebe-407e-886f-269755b1598a"
      },
      "outputs": [
        {
          "output_type": "stream",
          "name": "stdout",
          "text": [
            "  % Total    % Received % Xferd  Average Speed   Time    Time     Time  Current\n",
            "                                 Dload  Upload   Total   Spent    Left  Speed\n",
            "100  971k  100  971k    0     0  1012k      0 --:--:-- --:--:-- --:--:-- 1011k\n",
            "['costheta_jn' 'luminosity_distance_Mpc' 'm1_detector_frame_Msun'\n",
            " 'm2_detector_frame_Msun' 'lambda1' 'lambda2' 'spin1' 'spin2' 'costilt1'\n",
            " 'costilt2']\n"
          ]
        }
      ],
      "source": [
        "# get gw170817 posterior samples\n",
        "\n",
        "public_dcc_url= 'https://dcc.ligo.org/public/0150/P1800061/011/'\n",
        "!curl -O {public_dcc_url}\"high_spin_PhenomPNRT_posterior_samples.dat.gz\"\n",
        "\n",
        "data = pd.read_table('high_spin_PhenomPNRT_posterior_samples.dat.gz', delim_whitespace=True)\n",
        "pnames = data.columns.values\n",
        "print(pnames)"
      ]
    },
    {
      "cell_type": "code",
      "execution_count": 4,
      "metadata": {
        "id": "cd-LARckfyK3"
      },
      "outputs": [],
      "source": [
        "# convert detector frame masses to source frame in gw170817 samples -- note that the paper actually fixed z = 0.0099\n",
        "\n",
        "data['m1'] = data.apply(lambda row : row['m1_detector_frame_Msun'] / (1+0.0099) , axis = 1)\n",
        "data['m2'] = data.apply(lambda row : row['m2_detector_frame_Msun'] / (1+0.0099) , axis = 1)"
      ]
    },
    {
      "cell_type": "code",
      "execution_count": 5,
      "metadata": {
        "id": "odDxznuifz-O"
      },
      "outputs": [],
      "source": [
        "# define transformed observables\n",
        "\n",
        "def mchirp_from_mass1_mass2(mass1, mass2):\n",
        "    \"\"\"Returns the chirp mass from mass1 and mass2.\"\"\"\n",
        "    return eta_from_mass1_mass2(mass1, mass2)**(3./5) * (mass1+mass2)\n",
        "\n",
        "def eta_from_mass1_mass2(mass1, mass2):\n",
        "    \"\"\"Returns the symmetric mass ratio from mass1 and mass2.\"\"\"\n",
        "    return mass1*mass2 / (mass1+mass2)**2.\n",
        "\n",
        "def chi_eff(mass1, mass2, spin1z, spin2z): \n",
        "    \"\"\"Returns the effective spin from mass1, mass2, spin1z, and spin2z.\"\"\"\n",
        "    return (spin1z * mass1 + spin2z * mass2) / (mass1 + mass2)\n",
        "\n",
        "def lambdatilde(lambda1,lambda2,m1,m2): \n",
        "    mtotal = m1+m2\n",
        "    m1fac=m1+12*m2\n",
        "    m2fac=m2+12*m1\n",
        "    return 16./13*(m1fac*m1**(4)*lambda1+m2fac*m2**(4)*lambda2)/mtotal**(5)\n",
        "\n",
        "data['mchirp'] = data.apply(lambda row : mchirp_from_mass1_mass2(row['m1'], row['m2']) , axis = 1)\n",
        "data['q']= data.apply(lambda row : row['m2']/ row['m1'] , axis = 1)\n",
        "data['chi_eff']= data.apply(lambda row : chi_eff(\n",
        "    row['m1'], row['m2'], row['spin1']*row['costilt1'],row['spin2']*row['costilt2']  ) , axis = 1)\n",
        "data['lambdatilde'] = data.apply(lambda row : lambdatilde(\n",
        "    row['lambda1'], row['lambda2'], row['m1'], row['m2'] ) , axis = 1)"
      ]
    },
    {
      "cell_type": "code",
      "execution_count": 6,
      "metadata": {
        "id": "39-2MgfLf112"
      },
      "outputs": [],
      "source": [
        "# define new minimal prior and reweight gw170817 posterior samples to it\n",
        "\n",
        "old_prior_mass=prior.get_binary_mass_prior('flat_m1m2det_quad_dL') #function of m1, m2, lum_dist\n",
        "new_prior_mass=pop.get_pop_prior('unif_m1m2_unif_chi1_unif_chi2_unif_Lambda1Lambda2') # function of m1, m2, chi1, chi2, Lambda1, Lambda2, population parameters\n",
        "pop_params = [1.2, 2.3, 0., 0.7, 0., 5000.] # fiducial model\n",
        "\n",
        "#data = data.truncate(after=1000)\n",
        "\n",
        "# weight samples based on minimal mass prior\n",
        "data['massweight']  = data.apply(lambda row :\n",
        "                            new_prior_mass(row['m1'],row['m2'],row['spin1'],row['spin2'],row['lambda1'],row['lambda2'],pop_params)  \n",
        "                            /  old_prior_mass(row['m1_detector_frame_Msun'],row['m2_detector_frame_Msun'],row['luminosity_distance_Mpc']) \n",
        "                            , axis = 1)\n",
        "# normalize the weights for distribution comparisons\n",
        "data['massweight']=[d[0] for d in data['massweight']/data['massweight'].sum() * data['massweight'].size]"
      ]
    },
    {
      "cell_type": "code",
      "execution_count": 7,
      "metadata": {
        "id": "mJmmw0c4f3pZ"
      },
      "outputs": [],
      "source": [
        "# store the unweighted and reweighted samples in a dataframe\n",
        "\n",
        "data0 = data.copy()\n",
        "data0['massweight'] = np.ones(len(data0['massweight']))\n",
        "\n",
        "data['prior'] = 'Minimal'\n",
        "data0['prior'] = 'LVC'\n",
        "\n",
        "df = pd.concat([data, data0]).reset_index()"
      ]
    },
    {
      "cell_type": "code",
      "execution_count": 8,
      "metadata": {
        "id": "ZGfhrjHMf-uv"
      },
      "outputs": [],
      "source": [
        "# now let's add a more sophisticated spin prior, and reweight the population again\n",
        "\n",
        "new_prior_mass=pop.get_pop_prior('unif_m1m2_dns_spins_unif_Lambda1Lambda2') # function of m1, m2, chi1, chi2, cost1, cost2, Lambda1, Lambda2, population parameters\n",
        "pop_params = [1.2, 2.3, -1., 0., 0.4, -1., 0., 0.05, 0., 5000.] # fiducial model\n",
        "\n",
        "data1 = data0.copy()\n",
        "\n",
        "# weight samples based on minimal mass prior\n",
        "data1['massweight']  = data1.apply(lambda row :\n",
        "                            new_prior_mass(row['m1'],row['m2'],row['spin1'],row['spin2'],row['costilt1'],row['costilt2'],row['lambda1'],row['lambda2'],pop_params)  \n",
        "                            /  old_prior_mass(row['m1_detector_frame_Msun'],row['m2_detector_frame_Msun'],row['luminosity_distance_Mpc']) \n",
        "                            , axis = 1)\n",
        "# normalize the weights for distribution comparisons\n",
        "data1['massweight']=[d[0] for d in data1['massweight']/data1['massweight'].sum() * data1['massweight'].size]"
      ]
    },
    {
      "cell_type": "code",
      "source": [
        "# let's repeat the procedure with a more sophisticated tidal prior, and reweight the population again\n",
        "\n",
        "new_prior_mass=pop.get_pop_prior('unif_m1m2_unif_chi1_unif_chi2_common_Lambda1Lambda2') # function of m1, m2, chi1, chi2, Lambda1, Lambda2, population parameters\n",
        "pop_params = [1.2, 2.3, 0., 0.7, 0., 5000.] # fiducial model\n",
        "\n",
        "data2 = data0.copy()\n",
        "\n",
        "# weight samples based on minimal mass prior\n",
        "data2['massweight']  = data2.apply(lambda row :\n",
        "                            new_prior_mass(row['m1'],row['m2'],row['spin1'],row['spin2'],row['lambda1'],row['lambda2'],pop_params)  \n",
        "                            /  old_prior_mass(row['m1_detector_frame_Msun'],row['m2_detector_frame_Msun'],row['luminosity_distance_Mpc']) \n",
        "                            , axis = 1)\n",
        "# normalize the weights for distribution comparisons\n",
        "data2['massweight']=[d[0] for d in data2['massweight']/data2['massweight'].sum() * data2['massweight'].size]"
      ],
      "metadata": {
        "id": "xt5pBE0BEieH"
      },
      "execution_count": 9,
      "outputs": []
    },
    {
      "cell_type": "code",
      "source": [
        "# define new population-informed prior and reweight gw170817 posterior samples to it\n",
        "\n",
        "old_prior_mass=prior.get_binary_mass_prior('flat_m1m2det_quad_dL') #function of m1, m2, lum_dist\n",
        "new_prior_mass=pop.get_pop_prior('bimodcut_m1m2_dns_spins_common_Lambda1Lambda2') # function of m1, m2, chi1, chi2, cost1, cost2, Lambda1, Lambda2, population parameters\n",
        "pop_params = [1.34, 0.07, 1.80, 0.21, 0.65, 0.9, 2.12, -1., 0., 0.4, -1., 0., 0.05, 0., 5000.] # maximum a posteriori population model from arXiv:1709.07889\n",
        "\n",
        "data3 = data0.copy()\n",
        "\n",
        "# weight samples based on galactic mass prior\n",
        "data3['massweight']  = data3.apply(lambda row :\n",
        "                            new_prior_mass(row['m1'],row['m2'],row['spin1'],row['spin2'],row['costilt1'],row['costilt2'],row['lambda1'],row['lambda2'],pop_params)  \n",
        "                            /  old_prior_mass(row['m1_detector_frame_Msun'],row['m2_detector_frame_Msun'],row['luminosity_distance_Mpc']) \n",
        "                            , axis = 1)\n",
        "# normalize the weights for distribution comparisons\n",
        "data3['massweight']=[d[0] for d in data3['massweight']/data3['massweight'].sum() * data3['massweight'].size]"
      ],
      "metadata": {
        "id": "Hsf1pYnkJ9SR"
      },
      "execution_count": 10,
      "outputs": []
    },
    {
      "cell_type": "code",
      "source": [
        "# store the unweighted and reweighted samples in a dataframe\n",
        "\n",
        "data1['prior'] = 'Minimal + Spin'\n",
        "data2['prior'] = 'Minimal + Tidal'\n",
        "data3['prior'] = 'Galactic'\n",
        "\n",
        "marg_df = pd.concat([data, data0, data1, data2, data3]).reset_index()"
      ],
      "metadata": {
        "id": "PDd5u4mOElNG"
      },
      "execution_count": 11,
      "outputs": []
    },
    {
      "cell_type": "code",
      "source": [
        "# reflect kde\n",
        "\n",
        "reflected_df = data.truncate(after=1).copy()\n",
        "reflected_idx = 0\n",
        "\n",
        "for idx in list(marg_df.index.values):\n",
        "\n",
        "\tq = marg_df.at[idx,'q']\n",
        "\tLt = marg_df.at[idx,'lambdatilde']\n",
        "\t\n",
        "\tif q > 0.95:\n",
        "\t\treflected_df.loc[reflected_idx] = marg_df.loc[idx]\n",
        "\t\treflected_df.loc[reflected_idx].at['q'] = 1. + np.abs(1.-q)\n",
        "\t\treflected_idx = reflected_idx + 1\n",
        "\t\t\n",
        "\tif Lt < 5.:\n",
        "\t\treflected_df.loc[reflected_idx] = marg_df.loc[idx]\n",
        "\t\treflected_df.loc[reflected_idx].at['lambdatilde'] = -np.abs(Lt)\n",
        "\t\treflected_idx = reflected_idx + 1\n",
        "\n",
        "reflected_df=reflected_df.drop(reflected_df.index[0])\n",
        "marg_df = pd.concat([marg_df.reset_index(drop=True),reflected_df.reset_index(drop=True)],ignore_index=True)"
      ],
      "metadata": {
        "colab": {
          "base_uri": "https://localhost:8080/"
        },
        "id": "pWfFdxkFFTw9",
        "outputId": "4034463e-d22c-43fd-8994-15cd8bcfd63a"
      },
      "execution_count": 12,
      "outputs": [
        {
          "output_type": "stream",
          "name": "stderr",
          "text": [
            "/usr/local/lib/python3.7/dist-packages/pandas/core/series.py:1169: SettingWithCopyWarning: \n",
            "A value is trying to be set on a copy of a slice from a DataFrame\n",
            "\n",
            "See the caveats in the documentation: https://pandas.pydata.org/pandas-docs/stable/user_guide/indexing.html#returning-a-view-versus-a-copy\n",
            "  self._set_values(loc, value)\n"
          ]
        }
      ]
    },
    {
      "cell_type": "code",
      "execution_count": 13,
      "metadata": {
        "id": "wtqpEvs6gIhG"
      },
      "outputs": [],
      "source": [
        "# specify some global plot settings\n",
        "\n",
        "sns.set_palette([sns.color_palette(\"Paired\")[1],sns.color_palette(\"Paired\")[3],'k',sns.color_palette(\"Paired\")[8]])\n",
        "palette = {\"Minimal (prior)\": 'gray', 'LVC (prior)': sns.color_palette()[1], 'Galactic': sns.color_palette()[2], 'LVC': sns.color_palette()[1], 'Minimal': sns.color_palette()[-1], 'Minimal + Spin': sns.color_palette()[-1], 'Minimal + Tidal': sns.color_palette()[-1]}\n",
        "\n",
        "replacements = {'m1': r'$m_1 \\,[M_\\odot]$', 'm2': r'$m_2 \\,[M_\\odot]$', 'spin1': r'$\\chi_1$', 'spin2': r'$\\chi_2$', 'lambda1': r'$\\Lambda_1$', 'lambda2': r'$\\Lambda_2$', 'mchirp': r'$\\mathcal{M} \\,[M_\\odot]$', 'q': r'$q$', 'chi_eff': r'$\\chi_\\mathrm{eff}$', 'lambdatilde': r'$\\tilde{\\Lambda}$', 'costilt1': r'$\\cos{\\theta_1}$', 'costilt2': r'$\\cos{\\theta_2}$'}\n",
        "limits = {'m1': (1.2,2.0), 'm2': (0.8,1.6), 'spin1': (0.,1.), 'spin2': (0.,1.), 'lambda1': (0.,2500.), 'lambda2': (0.,2500.), 'mchirp': (1.1,1.2), 'q': (0.3,1.), 'chi_eff': (-0.05,0.2), 'lambdatilde': (0.,2500.), 'costilt1': (-1.,1.), 'costilt2': (-1.,1.)}\n",
        "\n",
        "posts = ['LVC','Galactic','Minimal']\n",
        "traces1 = ['Minimal + Spin']\n",
        "traces2 = ['Minimal + Tidal']\n",
        "\n",
        "handles = {}\n",
        "for key in palette.keys():\n",
        "  if '(prior)' in key: handles[key] = mlines.Line2D([], [], color=palette[key], ls=':', label=key)\n",
        "  elif key == 'Minimal + Spin': handles[key] = mlines.Line2D([], [], color=palette['Minimal'], label=key, linestyle='--')\n",
        "  elif key == 'Minimal + Tidal': handles[key] = mlines.Line2D([], [], color=palette['Minimal'], label=key, linestyle=':')\n",
        "  else: handles[key] = mlines.Line2D([], [], color=palette[key], label=key)"
      ]
    },
    {
      "cell_type": "code",
      "execution_count": 14,
      "metadata": {
        "id": "ACFGpdzagLdo"
      },
      "outputs": [],
      "source": [
        "def fancy_corner(df,vars,hue_col='prior',wt_col='massweight',posts=posts,post_levels=[0.1,0.5],traces1=traces1,traces2=traces2,trace_levels=[0.1],trace_alpha=1.,handles=handles,palette=palette,replacements=replacements,limits=limits):\n",
        "\n",
        "  fig = sns.PairGrid(df, vars=vars, corner=True, diag_sharey=False)\n",
        "\n",
        "  fig.map_diag(sns.kdeplot, data=df, hue=hue_col, hue_order=traces1, palette=palette, fill=False, alpha=trace_alpha, common_norm=False, weights=wt_col, linestyle='--')\n",
        "  fig.map_diag(sns.kdeplot, data=df, hue=hue_col, hue_order=traces2, palette=palette, fill=False, alpha=trace_alpha, common_norm=False, weights=wt_col, linestyle=':')\n",
        "  fig.map_diag(sns.kdeplot, data=df, hue=hue_col, hue_order=posts, palette=palette, fill=False, common_norm=False, weights=wt_col)\n",
        "  fig.map_lower(sns.kdeplot, data=df, hue=hue_col, hue_order=traces1, palette=palette, levels=trace_levels, alpha=trace_alpha, weights=wt_col, linestyles='--')\n",
        "  fig.map_lower(sns.kdeplot, data=df, hue=hue_col, hue_order=traces2, palette=palette, levels=trace_levels, alpha=trace_alpha, weights=wt_col, linestyles=':')\n",
        "  fig.map_lower(sns.kdeplot, data=df, hue=hue_col, hue_order=posts, palette=palette, levels=post_levels, weights=wt_col)\n",
        "  fig.add_legend(label_order=[*posts,*traces1,*traces2],legend_data=handles,fontsize=16)\n",
        "\n",
        "  for i in range(len(vars)):\n",
        "    for j in range(i+1):\n",
        "        xlabel = vars[j]\n",
        "        ylabel = vars[i]\n",
        "        if xlabel in replacements.keys():\n",
        "            fig.axes[i][j].set_xlabel(replacements[xlabel],fontsize=16)\n",
        "            fig.axes[i][j].set_xlim(*limits[xlabel])\n",
        "        if ylabel in replacements.keys():\n",
        "            fig.axes[i][j].set_ylabel(replacements[ylabel],fontsize=16)\n",
        "            fig.axes[i][j].set_ylim(*limits[ylabel])"
      ]
    },
    {
      "cell_type": "code",
      "execution_count": 15,
      "metadata": {
        "colab": {
          "base_uri": "https://localhost:8080/",
          "height": 555
        },
        "id": "pi61kForgNyV",
        "outputId": "dc51ba33-0ddf-4f05-90b2-8ed93164c62b"
      },
      "outputs": [
        {
          "output_type": "display_data",
          "data": {
            "text/plain": [
              "<Figure size 722.975x540 with 9 Axes>"
            ],
            "image/png": "[encoded data removed]"
          },
          "metadata": {
            "needs_background": "light"
          }
        }
      ],
      "source": [
        "# make a corner plot of the transformed variables\n",
        "\n",
        "fancy_corner(marg_df,[\"q\",\"chi_eff\",'lambdatilde'])"
      ]
    },
    {
      "cell_type": "code",
      "source": [
        "# calculate medians and 90% credible intervals\n",
        "\n",
        "def kde_quantile(data,quant,bounds,wts=None,stp=0.01):\n",
        "\n",
        "  p_of_data = scipy.stats.gaussian_kde(data,weights=wts)\n",
        "  data_grid = np.arange(bounds[0],bounds[1],stp)\n",
        "  num_stp = len(data_grid)\n",
        "\n",
        "  prob = 0.\n",
        "  i = 0\n",
        "\n",
        "  if quant > 0.5:\n",
        "    \n",
        "    quant = 1.-quant\n",
        "    while prob < quant:\n",
        "\n",
        "      i = i+1\n",
        "      prob = np.trapz(p_of_data(data_grid[num_stp-i:]),data_grid[num_stp-i:])\n",
        "\n",
        "    return np.around(data_grid[num_stp-i],-int(np.log10(stp)))\n",
        "\n",
        "  else:\n",
        "  \n",
        "    while prob < quant:\n",
        "\n",
        "      i = i+1\n",
        "      prob = np.trapz(p_of_data(data_grid[:i]),data_grid[:i])\n",
        "\n",
        "    return np.around(data_grid[i-1],-int(np.log10(stp)))\n",
        "\n",
        "def print_med_90cl(var,data,bounds,wts=None,stp=0.01):\n",
        "\n",
        "  num_dec = -int(np.log10(stp))\n",
        "  if num_dec < 0: num_dec = 0\n",
        "\n",
        "  return print('${0} = {1:.{prec}f}_{{-{2:.{prec}f}}}^{{+{3:.{prec}f}}}$'.format(var,kde_quantile(data,0.5,bounds,wts,stp),np.around(kde_quantile(data,0.5,bounds,wts,stp)-kde_quantile(data,0.05,bounds,wts,stp),num_dec),np.around(kde_quantile(data,0.95,bounds,wts,stp)-kde_quantile(data,0.5,bounds,wts,stp),num_dec), prec=num_dec))\n",
        "\n",
        "print_med_90cl('q',marg_df[marg_df['prior']=='LVC']['q'],(0.,1.))\n",
        "print_med_90cl('q',marg_df[marg_df['prior']=='Minimal']['q'],(0.,1.),wts=marg_df[marg_df['prior']=='Minimal']['massweight'])\n",
        "\n",
        "print_med_90cl('\\\\chi_\\\\rm{eff}',marg_df[marg_df['prior']=='LVC']['chi_eff'],(-1.,1.))\n",
        "print_med_90cl('\\\\chi_\\\\rm{eff}',marg_df[marg_df['prior']=='Minimal']['chi_eff'],(-1.,1.),wts=marg_df[marg_df['prior']=='Minimal']['massweight'])\n",
        "\n",
        "print_med_90cl('\\\\tilde{\\\\Lambda}',marg_df[marg_df['prior']=='LVC']['lambdatilde'],(0.,2000.),stp=10.)\n",
        "print_med_90cl('\\\\tilde{\\\\Lambda}',marg_df[marg_df['prior']=='Minimal']['lambdatilde'],(0.,2000.),wts=marg_df[marg_df['prior']=='Minimal']['massweight'],stp=10.)"
      ],
      "metadata": {
        "colab": {
          "base_uri": "https://localhost:8080/"
        },
        "id": "W3T4vaJmFgzf",
        "outputId": "a216c281-dc25-47e7-d5a5-b04aa6edf8ed"
      },
      "execution_count": 16,
      "outputs": [
        {
          "output_type": "stream",
          "name": "stdout",
          "text": [
            "$q = 0.73_{-0.27}^{+0.23}$\n",
            "$q = 0.89_{-0.10}^{+0.08}$\n",
            "$\\chi_\\rm{eff} = 0.02_{-0.02}^{+0.07}$\n",
            "$\\chi_\\rm{eff} = 0.01_{-0.02}^{+0.00}$\n",
            "$\\tilde{\\Lambda} = 310_{-230}^{+510}$\n",
            "$\\tilde{\\Lambda} = 420_{-290}^{+460}$\n"
          ]
        }
      ]
    }
  ],
  "metadata": {
    "colab": {
      "collapsed_sections": [],
      "name": "GW170817_MinimalNS.ipynb",
      "provenance": [],
      "authorship_tag": "ABX9TyOQzQByGiz6hCbBLZIEzgEr"
    },
    "kernelspec": {
      "display_name": "Python 3",
      "name": "python3"
    },
    "language_info": {
      "name": "python"
    }
  },
  "nbformat": 4,
  "nbformat_minor": 0
}